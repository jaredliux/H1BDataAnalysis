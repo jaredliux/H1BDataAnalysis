{
 "cells": [
  {
   "cell_type": "markdown",
   "metadata": {},
   "source": [
    "# H1B Data Analysis"
   ]
  },
  {
   "cell_type": "markdown",
   "metadata": {},
   "source": [
    "**BY: Cyndi Wang and Jared Liu**"
   ]
  },
  {
   "cell_type": "markdown",
   "metadata": {},
   "source": [
    "**H-1B is one of the most common visa status applied for in the US. Here, we want to uncover insights to help employers understand the process, as well as providing insights for international students to better decide which occupations to choose or which companies to work for to get a better chance to stay in the US.**\n",
    "<br>\n",
    "\n",
    "We aim to answer mainly the following two questions:<br>\n",
    "<br>\n",
    "**1. Predict whether or not an H1B application will be approved or denied**<br>\n",
    "\n",
    "**2. Which factors are more important in this process? ( Salary? Occupation? ) \n",
    "<br>\n",
    "<br>\n",
    "This notebook is divided into four parts, <br>\n",
    "I. Load and Combine Data<br> \n",
    "II. Exploratory Data Analysis<br> \n",
    "III. Data Modeling<br> \n",
    "IV. Recommendations and Future Work**"
   ]
  },
  {
   "cell_type": "code",
   "execution_count": 3,
   "metadata": {},
   "outputs": [],
   "source": [
    "import warnings\n",
    "warnings.filterwarnings(\"ignore\")"
   ]
  },
  {
   "cell_type": "code",
   "execution_count": 4,
   "metadata": {},
   "outputs": [],
   "source": [
    "import pandas as pd\n",
    "import numpy as np\n",
    "import matplotlib.pyplot as plt"
   ]
  },
  {
   "cell_type": "markdown",
   "metadata": {},
   "source": [
    "# I. Load and combine data"
   ]
  },
  {
   "cell_type": "markdown",
   "metadata": {},
   "source": [
    "**We have 3 years of data downloaded from United State Department of Labor website. \n",
    "The original dataset has 260 columns for 2019 and about 50 columns for 2018 and 2017, we first handpicked 27 columns that we feel are most relavant to our prediction task. The combined file has 1943626 records.**\n",
    "\n",
    "data link:  https://www.foreignlaborcert.doleta.gov/performancedata.cfm#dis "
   ]
  },
  {
   "cell_type": "code",
   "execution_count": 5,
   "metadata": {},
   "outputs": [],
   "source": [
    "df1 = pd.read_csv('H-1B_Disclosure_Data_FY2019.csv')"
   ]
  },
  {
   "cell_type": "code",
   "execution_count": 6,
   "metadata": {},
   "outputs": [
    {
     "output_type": "execute_result",
     "data": {
      "text/plain": "(1048547, 260)"
     },
     "metadata": {},
     "execution_count": 6
    }
   ],
   "source": [
    "df1.shape"
   ]
  },
  {
   "cell_type": "code",
   "execution_count": 7,
   "metadata": {},
   "outputs": [
    {
     "output_type": "execute_result",
     "data": {
      "text/plain": "Index([&#39;CASE_NUMBER&#39;, &#39;CASE_STATUS&#39;, &#39;CASE_SUBMITTED&#39;, &#39;DECISION_DATE&#39;,\n       &#39;ORIGINAL_CERT_DATE&#39;, &#39;VISA_CLASS&#39;, &#39;JOB_TITLE&#39;, &#39;SOC_CODE&#39;,\n       &#39;SOC_TITLE&#39;, &#39;FULL_TIME_POSITION&#39;,\n       ...\n       &#39;PW_OTHER_SOURCE_10&#39;, &#39;PW_NON-OES_YEAR_10&#39;, &#39;PW_SURVEY_PUBLISHER_10&#39;,\n       &#39;PW_SURVEY_NAME_10&#39;, &#39;H-1B_DEPENDENT&#39;, &#39;WILLFUL_VIOLATOR&#39;,\n       &#39;SUPPORT_H1B&#39;, &#39;STATUTORY_BASIS&#39;, &#39;MASTERS_EXEMPTION&#39;,\n       &#39;PUBLIC_DISCLOSURE&#39;],\n      dtype=&#39;object&#39;, length=260)"
     },
     "metadata": {},
     "execution_count": 7
    }
   ],
   "source": []
  },
  {
   "cell_type": "code",
   "execution_count": 6,
   "metadata": {},
   "outputs": [],
   "source": [
    "picked_cols_1 = ['CASE_STATUS', 'CASE_SUBMITTED', 'DECISION_DATE', 'VISA_CLASS', 'SOC_CODE', 'FULL_TIME_POSITION', \n",
    "               'PERIOD_OF_EMPLOYMENT_START_DATE', 'PERIOD_OF_EMPLOYMENT_END_DATE', 'TOTAL_WORKER_POSITIONS',\n",
    "               'NEW_EMPLOYMENT', 'CONTINUED_EMPLOYMENT', 'CHANGE_PREVIOUS_EMPLOYMENT', 'NEW_CONCURRENT_EMPLOYMENT',\n",
    "               'CHANGE_EMPLOYER', 'AMENDED_PETITION', 'EMPLOYER_NAME', 'EMPLOYER_CITY', 'EMPLOYER_STATE', \n",
    "               'NAICS_CODE', 'AGENT_REPRESENTING_EMPLOYER', 'WAGE_RATE_OF_PAY_FROM_1', 'WAGE_UNIT_OF_PAY_1', \n",
    "               'PREVAILING_WAGE_1', 'PW_UNIT_OF_PAY_1', 'PW_WAGE_LEVEL_1', 'H-1B_DEPENDENT', 'WILLFUL_VIOLATOR']"
   ]
  },
  {
   "cell_type": "code",
   "execution_count": 7,
   "metadata": {},
   "outputs": [
    {
     "data": {
      "text/plain": [
       "27"
      ]
     },
     "execution_count": 7,
     "metadata": {},
     "output_type": "execute_result"
    }
   ],
   "source": [
    "len(picked_cols_1)"
   ]
  },
  {
   "cell_type": "code",
   "execution_count": 8,
   "metadata": {},
   "outputs": [],
   "source": [
    "df1_select_col = df1[picked_cols_1]"
   ]
  },
  {
   "cell_type": "code",
   "execution_count": 9,
   "metadata": {},
   "outputs": [],
   "source": [
    "df1_select_col[\"docFY\"] = \"2019\""
   ]
  },
  {
   "cell_type": "code",
   "execution_count": 10,
   "metadata": {},
   "outputs": [],
   "source": [
    "df2 = pd.read_csv('H-1B_Disclosure_Data_FY2018_EOY.csv')"
   ]
  },
  {
   "cell_type": "code",
   "execution_count": 11,
   "metadata": {},
   "outputs": [],
   "source": [
    "picked_cols_2 = ['CASE_STATUS', 'CASE_SUBMITTED', 'DECISION_DATE', 'VISA_CLASS', 'SOC_CODE', 'FULL_TIME_POSITION', \n",
    "               'EMPLOYMENT_START_DATE', 'EMPLOYMENT_END_DATE', 'TOTAL_WORKERS', 'NEW_EMPLOYMENT', 'CONTINUED_EMPLOYMENT', \n",
    "               'CHANGE_PREVIOUS_EMPLOYMENT', 'NEW_CONCURRENT_EMP', 'CHANGE_EMPLOYER', 'AMENDED_PETITION', 'EMPLOYER_NAME', \n",
    "               'EMPLOYER_CITY', 'EMPLOYER_STATE', 'NAICS_CODE', 'AGENT_REPRESENTING_EMPLOYER', 'WAGE_RATE_OF_PAY_FROM', \n",
    "               'WAGE_UNIT_OF_PAY', 'PREVAILING_WAGE', 'PW_UNIT_OF_PAY', 'PW_WAGE_LEVEL', 'H1B_DEPENDENT', 'WILLFUL_VIOLATOR']"
   ]
  },
  {
   "cell_type": "code",
   "execution_count": 12,
   "metadata": {},
   "outputs": [],
   "source": [
    "df2_select_col = df2[picked_cols_2]\n",
    "df2_select_col[\"docFY\"] = \"2018\""
   ]
  },
  {
   "cell_type": "code",
   "execution_count": 13,
   "metadata": {},
   "outputs": [],
   "source": [
    "df2_select_col.columns = df1_select_col.columns"
   ]
  },
  {
   "cell_type": "code",
   "execution_count": 14,
   "metadata": {},
   "outputs": [],
   "source": [
    "df3 = pd.read_csv('H-1B_Disclosure_Data_FY17.csv')"
   ]
  },
  {
   "cell_type": "code",
   "execution_count": 15,
   "metadata": {},
   "outputs": [],
   "source": [
    "picked_cols_3 = ['CASE_STATUS', 'CASE_SUBMITTED', 'DECISION_DATE', 'VISA_CLASS', 'SOC_CODE', 'FULL_TIME_POSITION', \n",
    "               'EMPLOYMENT_START_DATE', 'EMPLOYMENT_END_DATE', 'TOTAL_WORKERS', 'NEW_EMPLOYMENT', 'CONTINUED_EMPLOYMENT', \n",
    "               'CHANGE_PREVIOUS_EMPLOYMENT', 'NEW_CONCURRENT_EMPLOYMENT', 'CHANGE_EMPLOYER', 'AMENDED_PETITION', 'EMPLOYER_NAME', \n",
    "               'EMPLOYER_CITY', 'EMPLOYER_STATE', 'NAICS_CODE', 'AGENT_REPRESENTING_EMPLOYER', 'WAGE_RATE_OF_PAY_FROM', \n",
    "               'WAGE_UNIT_OF_PAY', 'PREVAILING_WAGE', 'PW_UNIT_OF_PAY', 'PW_WAGE_LEVEL', 'H1B_DEPENDENT', 'WILLFUL_VIOLATOR']"
   ]
  },
  {
   "cell_type": "code",
   "execution_count": 16,
   "metadata": {},
   "outputs": [],
   "source": [
    "df3_select_col = df3[picked_cols_3]\n",
    "df3_select_col[\"docFY\"] = \"2017\""
   ]
  },
  {
   "cell_type": "code",
   "execution_count": 17,
   "metadata": {},
   "outputs": [],
   "source": [
    "df3_select_col.columns = df1_select_col.columns"
   ]
  },
  {
   "cell_type": "code",
   "execution_count": 18,
   "metadata": {},
   "outputs": [],
   "source": [
    "frames = [df1_select_col, df2_select_col, df3_select_col]\n",
    "picked_df = pd.concat(frames, sort=False, ignore_index=True)"
   ]
  },
  {
   "cell_type": "code",
   "execution_count": 20,
   "metadata": {},
   "outputs": [
    {
     "data": {
      "text/html": [
       "<div>\n",
       "<style scoped>\n",
       "    .dataframe tbody tr th:only-of-type {\n",
       "        vertical-align: middle;\n",
       "    }\n",
       "\n",
       "    .dataframe tbody tr th {\n",
       "        vertical-align: top;\n",
       "    }\n",
       "\n",
       "    .dataframe thead th {\n",
       "        text-align: right;\n",
       "    }\n",
       "</style>\n",
       "<table border=\"1\" class=\"dataframe\">\n",
       "  <thead>\n",
       "    <tr style=\"text-align: right;\">\n",
       "      <th></th>\n",
       "      <th>CASE_STATUS</th>\n",
       "      <th>CASE_SUBMITTED</th>\n",
       "      <th>DECISION_DATE</th>\n",
       "      <th>VISA_CLASS</th>\n",
       "      <th>SOC_CODE</th>\n",
       "      <th>FULL_TIME_POSITION</th>\n",
       "      <th>PERIOD_OF_EMPLOYMENT_START_DATE</th>\n",
       "      <th>PERIOD_OF_EMPLOYMENT_END_DATE</th>\n",
       "      <th>TOTAL_WORKER_POSITIONS</th>\n",
       "      <th>NEW_EMPLOYMENT</th>\n",
       "      <th>...</th>\n",
       "      <th>NAICS_CODE</th>\n",
       "      <th>AGENT_REPRESENTING_EMPLOYER</th>\n",
       "      <th>WAGE_RATE_OF_PAY_FROM_1</th>\n",
       "      <th>WAGE_UNIT_OF_PAY_1</th>\n",
       "      <th>PREVAILING_WAGE_1</th>\n",
       "      <th>PW_UNIT_OF_PAY_1</th>\n",
       "      <th>PW_WAGE_LEVEL_1</th>\n",
       "      <th>H-1B_DEPENDENT</th>\n",
       "      <th>WILLFUL_VIOLATOR</th>\n",
       "      <th>docFY</th>\n",
       "    </tr>\n",
       "  </thead>\n",
       "  <tbody>\n",
       "    <tr>\n",
       "      <th>0</th>\n",
       "      <td>WITHDRAWN</td>\n",
       "      <td>4/8/16</td>\n",
       "      <td>4/30/19</td>\n",
       "      <td>H-1B</td>\n",
       "      <td>11-2011</td>\n",
       "      <td>Y</td>\n",
       "      <td>10/1/16</td>\n",
       "      <td>9/30/19</td>\n",
       "      <td>1.0</td>\n",
       "      <td>0</td>\n",
       "      <td>...</td>\n",
       "      <td>541810</td>\n",
       "      <td>NaN</td>\n",
       "      <td>$179,000.00</td>\n",
       "      <td>Year</td>\n",
       "      <td>NaN</td>\n",
       "      <td>NaN</td>\n",
       "      <td>NaN</td>\n",
       "      <td>N</td>\n",
       "      <td>N</td>\n",
       "      <td>2019</td>\n",
       "    </tr>\n",
       "    <tr>\n",
       "      <th>1</th>\n",
       "      <td>WITHDRAWN</td>\n",
       "      <td>7/14/17</td>\n",
       "      <td>5/13/19</td>\n",
       "      <td>E-3 Australian</td>\n",
       "      <td>11-2011</td>\n",
       "      <td>Y</td>\n",
       "      <td>10/1/17</td>\n",
       "      <td>10/1/19</td>\n",
       "      <td>1.0</td>\n",
       "      <td>0</td>\n",
       "      <td>...</td>\n",
       "      <td>541810</td>\n",
       "      <td>NaN</td>\n",
       "      <td>$110,000.00</td>\n",
       "      <td>Year</td>\n",
       "      <td>NaN</td>\n",
       "      <td>NaN</td>\n",
       "      <td>NaN</td>\n",
       "      <td>NaN</td>\n",
       "      <td>NaN</td>\n",
       "      <td>2019</td>\n",
       "    </tr>\n",
       "    <tr>\n",
       "      <th>2</th>\n",
       "      <td>WITHDRAWN</td>\n",
       "      <td>8/23/17</td>\n",
       "      <td>4/30/19</td>\n",
       "      <td>E-3 Australian</td>\n",
       "      <td>11-2011</td>\n",
       "      <td>Y</td>\n",
       "      <td>9/11/17</td>\n",
       "      <td>9/11/19</td>\n",
       "      <td>1.0</td>\n",
       "      <td>0</td>\n",
       "      <td>...</td>\n",
       "      <td>541810</td>\n",
       "      <td>NaN</td>\n",
       "      <td>$275,000.00</td>\n",
       "      <td>Year</td>\n",
       "      <td>NaN</td>\n",
       "      <td>NaN</td>\n",
       "      <td>NaN</td>\n",
       "      <td>NaN</td>\n",
       "      <td>NaN</td>\n",
       "      <td>2019</td>\n",
       "    </tr>\n",
       "    <tr>\n",
       "      <th>3</th>\n",
       "      <td>WITHDRAWN</td>\n",
       "      <td>12/22/17</td>\n",
       "      <td>8/20/19</td>\n",
       "      <td>E-3 Australian</td>\n",
       "      <td>11-2011</td>\n",
       "      <td>Y</td>\n",
       "      <td>1/8/18</td>\n",
       "      <td>1/7/20</td>\n",
       "      <td>1.0</td>\n",
       "      <td>0</td>\n",
       "      <td>...</td>\n",
       "      <td>541810</td>\n",
       "      <td>NaN</td>\n",
       "      <td>$140,000.00</td>\n",
       "      <td>Year</td>\n",
       "      <td>NaN</td>\n",
       "      <td>NaN</td>\n",
       "      <td>NaN</td>\n",
       "      <td>NaN</td>\n",
       "      <td>NaN</td>\n",
       "      <td>2019</td>\n",
       "    </tr>\n",
       "    <tr>\n",
       "      <th>4</th>\n",
       "      <td>WITHDRAWN</td>\n",
       "      <td>1/10/18</td>\n",
       "      <td>4/15/19</td>\n",
       "      <td>E-3 Australian</td>\n",
       "      <td>11-2011</td>\n",
       "      <td>Y</td>\n",
       "      <td>2/1/18</td>\n",
       "      <td>2/1/20</td>\n",
       "      <td>1.0</td>\n",
       "      <td>0</td>\n",
       "      <td>...</td>\n",
       "      <td>541810</td>\n",
       "      <td>NaN</td>\n",
       "      <td>$180,000.00</td>\n",
       "      <td>Year</td>\n",
       "      <td>NaN</td>\n",
       "      <td>NaN</td>\n",
       "      <td>NaN</td>\n",
       "      <td>NaN</td>\n",
       "      <td>NaN</td>\n",
       "      <td>2019</td>\n",
       "    </tr>\n",
       "  </tbody>\n",
       "</table>\n",
       "<p>5 rows × 28 columns</p>\n",
       "</div>"
      ],
      "text/plain": [
       "  CASE_STATUS CASE_SUBMITTED DECISION_DATE      VISA_CLASS SOC_CODE  \\\n",
       "0   WITHDRAWN         4/8/16       4/30/19            H-1B  11-2011   \n",
       "1   WITHDRAWN        7/14/17       5/13/19  E-3 Australian  11-2011   \n",
       "2   WITHDRAWN        8/23/17       4/30/19  E-3 Australian  11-2011   \n",
       "3   WITHDRAWN       12/22/17       8/20/19  E-3 Australian  11-2011   \n",
       "4   WITHDRAWN        1/10/18       4/15/19  E-3 Australian  11-2011   \n",
       "\n",
       "  FULL_TIME_POSITION PERIOD_OF_EMPLOYMENT_START_DATE  \\\n",
       "0                  Y                         10/1/16   \n",
       "1                  Y                         10/1/17   \n",
       "2                  Y                         9/11/17   \n",
       "3                  Y                          1/8/18   \n",
       "4                  Y                          2/1/18   \n",
       "\n",
       "  PERIOD_OF_EMPLOYMENT_END_DATE  TOTAL_WORKER_POSITIONS NEW_EMPLOYMENT  ...  \\\n",
       "0                       9/30/19                     1.0              0  ...   \n",
       "1                       10/1/19                     1.0              0  ...   \n",
       "2                       9/11/19                     1.0              0  ...   \n",
       "3                        1/7/20                     1.0              0  ...   \n",
       "4                        2/1/20                     1.0              0  ...   \n",
       "\n",
       "  NAICS_CODE  AGENT_REPRESENTING_EMPLOYER  WAGE_RATE_OF_PAY_FROM_1  \\\n",
       "0     541810                          NaN              $179,000.00   \n",
       "1     541810                          NaN              $110,000.00   \n",
       "2     541810                          NaN              $275,000.00   \n",
       "3     541810                          NaN              $140,000.00   \n",
       "4     541810                          NaN              $180,000.00   \n",
       "\n",
       "   WAGE_UNIT_OF_PAY_1  PREVAILING_WAGE_1 PW_UNIT_OF_PAY_1 PW_WAGE_LEVEL_1  \\\n",
       "0                Year                NaN              NaN             NaN   \n",
       "1                Year                NaN              NaN             NaN   \n",
       "2                Year                NaN              NaN             NaN   \n",
       "3                Year                NaN              NaN             NaN   \n",
       "4                Year                NaN              NaN             NaN   \n",
       "\n",
       "  H-1B_DEPENDENT WILLFUL_VIOLATOR docFY  \n",
       "0              N                N  2019  \n",
       "1            NaN              NaN  2019  \n",
       "2            NaN              NaN  2019  \n",
       "3            NaN              NaN  2019  \n",
       "4            NaN              NaN  2019  \n",
       "\n",
       "[5 rows x 28 columns]"
      ]
     },
     "execution_count": 20,
     "metadata": {},
     "output_type": "execute_result"
    }
   ],
   "source": [
    "picked_df.head()"
   ]
  },
  {
   "cell_type": "code",
   "execution_count": 21,
   "metadata": {},
   "outputs": [],
   "source": [
    "# delete rows where case status is missing\n",
    "picked_df = picked_df[picked_df.CASE_STATUS.notna()]"
   ]
  },
  {
   "cell_type": "code",
   "execution_count": 22,
   "metadata": {},
   "outputs": [
    {
     "data": {
      "text/plain": [
       "(1943626, 28)"
      ]
     },
     "execution_count": 22,
     "metadata": {},
     "output_type": "execute_result"
    }
   ],
   "source": [
    "picked_df.shape"
   ]
  },
  {
   "cell_type": "code",
   "execution_count": 23,
   "metadata": {},
   "outputs": [],
   "source": [
    "picked_df.to_csv(\"picked_df_new.csv\", index=False)"
   ]
  },
  {
   "cell_type": "markdown",
   "metadata": {},
   "source": [
    "# II. Exploratory Data Analysis"
   ]
  },
  {
   "cell_type": "markdown",
   "metadata": {},
   "source": [
    "**For this part, we try to explore the dataset to gain some insights of how features look like and their relationship with the final case status. Therefore, it is divided into three parts.** <br>\n",
    "<br>\n",
    "**i. Data Cleaning<br>\n",
    "ii. Feature Engineering<br>\n",
    "iii. Data Visualization**"
   ]
  },
  {
   "cell_type": "code",
   "execution_count": 29,
   "metadata": {},
   "outputs": [],
   "source": [
    "picked_df = pd.read_csv('picked_df_new.csv')"
   ]
  },
  {
   "cell_type": "markdown",
   "metadata": {},
   "source": [
    "## i. Data Cleaning"
   ]
  },
  {
   "cell_type": "markdown",
   "metadata": {},
   "source": [
    "This part cleans the data by deleting or imputing missing values."
   ]
  },
  {
   "cell_type": "code",
   "execution_count": 30,
   "metadata": {},
   "outputs": [
    {
     "data": {
      "text/plain": [
       "CASE_STATUS                             0\n",
       "CASE_SUBMITTED                          1\n",
       "DECISION_DATE                           0\n",
       "VISA_CLASS                              0\n",
       "SOC_CODE                               17\n",
       "FULL_TIME_POSITION                     11\n",
       "PERIOD_OF_EMPLOYMENT_START_DATE        36\n",
       "PERIOD_OF_EMPLOYMENT_END_DATE          41\n",
       "TOTAL_WORKER_POSITIONS                  2\n",
       "NEW_EMPLOYMENT                          0\n",
       "CONTINUED_EMPLOYMENT                    0\n",
       "CHANGE_PREVIOUS_EMPLOYMENT              0\n",
       "NEW_CONCURRENT_EMPLOYMENT               1\n",
       "CHANGE_EMPLOYER                         0\n",
       "AMENDED_PETITION                        0\n",
       "EMPLOYER_NAME                          85\n",
       "EMPLOYER_CITY                          31\n",
       "EMPLOYER_STATE                        132\n",
       "NAICS_CODE                             15\n",
       "AGENT_REPRESENTING_EMPLOYER        124674\n",
       "WAGE_RATE_OF_PAY_FROM_1                 8\n",
       "WAGE_UNIT_OF_PAY_1                     29\n",
       "PREVAILING_WAGE_1                   33251\n",
       "PW_UNIT_OF_PAY_1                    33350\n",
       "PW_WAGE_LEVEL_1                    225985\n",
       "H-1B_DEPENDENT                      42972\n",
       "WILLFUL_VIOLATOR                    42985\n",
       "docFY                                   0\n",
       "dtype: int64"
      ]
     },
     "execution_count": 30,
     "metadata": {},
     "output_type": "execute_result"
    }
   ],
   "source": [
    "# check missing values\n",
    "len(picked_df) - picked_df.count()"
   ]
  },
  {
   "cell_type": "code",
   "execution_count": 31,
   "metadata": {},
   "outputs": [],
   "source": [
    "# delete observations with few missing column values\n",
    "picked_df.dropna(subset=['CASE_SUBMITTED', 'SOC_CODE', 'FULL_TIME_POSITION', 'PERIOD_OF_EMPLOYMENT_START_DATE',\n",
    "                         'PERIOD_OF_EMPLOYMENT_END_DATE', 'TOTAL_WORKER_POSITIONS', 'NEW_CONCURRENT_EMPLOYMENT', \n",
    "                         'EMPLOYER_NAME', 'EMPLOYER_CITY', 'EMPLOYER_STATE', 'NAICS_CODE', 'WAGE_RATE_OF_PAY_FROM_1', \n",
    "                         'WAGE_UNIT_OF_PAY_1'], inplace=True)"
   ]
  },
  {
   "cell_type": "code",
   "execution_count": 32,
   "metadata": {},
   "outputs": [],
   "source": [
    "# impute values for the columns listed below, we can safely assume missing values means \"N\"\n",
    "picked_df.loc[picked_df['AGENT_REPRESENTING_EMPLOYER'].isna(), 'AGENT_REPRESENTING_EMPLOYER'] = 'N'\n",
    "picked_df.loc[picked_df['H-1B_DEPENDENT'].isna(), 'H-1B_DEPENDENT'] = 'N'\n",
    "picked_df.loc[picked_df['WILLFUL_VIOLATOR'].isna(), 'WILLFUL_VIOLATOR'] = 'N'"
   ]
  },
  {
   "cell_type": "code",
   "execution_count": 33,
   "metadata": {},
   "outputs": [
    {
     "data": {
      "text/plain": [
       "Level II     831188\n",
       "Level I      425454\n",
       "Level III    291985\n",
       "Level IV     168771\n",
       "Name: PW_WAGE_LEVEL_1, dtype: int64"
      ]
     },
     "execution_count": 33,
     "metadata": {},
     "output_type": "execute_result"
    }
   ],
   "source": [
    "picked_df.PW_WAGE_LEVEL_1.value_counts()"
   ]
  },
  {
   "cell_type": "code",
   "execution_count": 34,
   "metadata": {},
   "outputs": [],
   "source": [
    "# impute missing PW_WAGE_LEVEL_1 with mode Level II \n",
    "picked_df.loc[picked_df['PW_WAGE_LEVEL_1'].isna(), 'PW_WAGE_LEVEL_1'] = 'Level II'"
   ]
  },
  {
   "cell_type": "code",
   "execution_count": 35,
   "metadata": {},
   "outputs": [],
   "source": [
    "# clean wage values\n",
    "picked_df.WAGE_RATE_OF_PAY_FROM_1 = picked_df.WAGE_RATE_OF_PAY_FROM_1.replace('[\\$,]', '', regex=True).astype(float)\n",
    "picked_df.PREVAILING_WAGE_1 = picked_df.PREVAILING_WAGE_1.replace('[\\$,]', '', regex=True).astype(float)"
   ]
  },
  {
   "cell_type": "code",
   "execution_count": 36,
   "metadata": {},
   "outputs": [
    {
     "data": {
      "text/plain": [
       "CASE_STATUS                            0\n",
       "CASE_SUBMITTED                         0\n",
       "DECISION_DATE                          0\n",
       "VISA_CLASS                             0\n",
       "SOC_CODE                               0\n",
       "FULL_TIME_POSITION                     0\n",
       "PERIOD_OF_EMPLOYMENT_START_DATE        0\n",
       "PERIOD_OF_EMPLOYMENT_END_DATE          0\n",
       "TOTAL_WORKER_POSITIONS                 0\n",
       "NEW_EMPLOYMENT                         0\n",
       "CONTINUED_EMPLOYMENT                   0\n",
       "CHANGE_PREVIOUS_EMPLOYMENT             0\n",
       "NEW_CONCURRENT_EMPLOYMENT              0\n",
       "CHANGE_EMPLOYER                        0\n",
       "AMENDED_PETITION                       0\n",
       "EMPLOYER_NAME                          0\n",
       "EMPLOYER_CITY                          0\n",
       "EMPLOYER_STATE                         0\n",
       "NAICS_CODE                             0\n",
       "AGENT_REPRESENTING_EMPLOYER            0\n",
       "WAGE_RATE_OF_PAY_FROM_1                0\n",
       "WAGE_UNIT_OF_PAY_1                     0\n",
       "PREVAILING_WAGE_1                  33235\n",
       "PW_UNIT_OF_PAY_1                   33321\n",
       "PW_WAGE_LEVEL_1                        0\n",
       "H-1B_DEPENDENT                         0\n",
       "WILLFUL_VIOLATOR                       0\n",
       "docFY                                  0\n",
       "dtype: int64"
      ]
     },
     "execution_count": 36,
     "metadata": {},
     "output_type": "execute_result"
    }
   ],
   "source": [
    "# to confirm no missing values except prevailing wage/unit of pay, which will be solved later.\n",
    "len(picked_df) - picked_df.count()"
   ]
  },
  {
   "cell_type": "markdown",
   "metadata": {},
   "source": [
    "## ii. Feature Engineering"
   ]
  },
  {
   "cell_type": "markdown",
   "metadata": {},
   "source": [
    "In this part, we create new features that might be more correlated with case status."
   ]
  },
  {
   "cell_type": "markdown",
   "metadata": {},
   "source": [
    "**HOURLY_WAGE**: WAGE_RATE_OF_PAY_FROM_1 / WAGE_UNIT_OF_PAY_1"
   ]
  },
  {
   "cell_type": "code",
   "execution_count": 37,
   "metadata": {},
   "outputs": [],
   "source": [
    "picked_df['WORK_HOURS'] = picked_df['WAGE_UNIT_OF_PAY_1'].map({'Year': 2080, 'Month': 160, 'Bi-Weekly': 80, 'Week': 40, 'Hour': 1})\n",
    "picked_df['WAGE_HOURLY'] = picked_df['WAGE_RATE_OF_PAY_FROM_1'] / picked_df['WORK_HOURS']\n",
    "# correct for wrong unit of pay\n",
    "picked_df.loc[(picked_df['WAGE_HOURLY'] > 1000) & (picked_df['WAGE_UNIT_OF_PAY_1'] != 'Year'), 'WORK_HOURS'] = 2080\n",
    "picked_df['WAGE_HOURLY'] = picked_df['WAGE_RATE_OF_PAY_FROM_1'] / picked_df['WORK_HOURS']\n",
    "picked_df['WAGE_HOURLY'] = picked_df['WAGE_HOURLY'].clip(0, 1000) # clip outliers"
   ]
  },
  {
   "cell_type": "markdown",
   "metadata": {},
   "source": [
    "**PW_WAGE_HOURLY**: PREVAILING_WAGE_1 / PW_UNIT_OF_PAY_1"
   ]
  },
  {
   "cell_type": "code",
   "execution_count": 38,
   "metadata": {},
   "outputs": [],
   "source": [
    "picked_df['PW_WORK_HOURS'] = picked_df['PW_UNIT_OF_PAY_1'].map({'Year': 2080, 'Month': 160, 'Bi-Weekly': 80, 'Week': 40, 'Hour': 1})\n",
    "picked_df['PW_WAGE_HOURLY'] = picked_df['PREVAILING_WAGE_1'] / picked_df['PW_WORK_HOURS']\n",
    "# correct for wrong unit of pay\n",
    "picked_df.loc[(picked_df['PW_WAGE_HOURLY'] > 1000) & (picked_df['PW_UNIT_OF_PAY_1'] != 'Year'), 'PW_WORK_HOURS'] = 2080\n",
    "picked_df['PW_WAGE_HOURLY'] = picked_df['PREVAILING_WAGE_1'] / picked_df['PW_WORK_HOURS']\n",
    "picked_df['PW_WAGE_HOURLY'] = picked_df['PW_WAGE_HOURLY'].clip(0, 1000) # clip outliers"
   ]
  },
  {
   "cell_type": "code",
   "execution_count": 39,
   "metadata": {},
   "outputs": [],
   "source": [
    "# impute PW_WAGE_HOURLY with WAGE_HOURLY\n",
    "picked_df['PW_WAGE_HOURLY'].fillna(picked_df['WAGE_HOURLY'], inplace=True)"
   ]
  },
  {
   "cell_type": "markdown",
   "metadata": {},
   "source": [
    "**WAGE_DIFF**: WAGE_HOURLY - PW_WAGE_HOURLY<br>\n",
    "Our intuition is that if someone's wage is lower than prevailing wage, then the case has much higer chance of being denied."
   ]
  },
  {
   "cell_type": "code",
   "execution_count": 40,
   "metadata": {},
   "outputs": [],
   "source": [
    "picked_df[\"WAGE_DIFF\"] = picked_df[\"WAGE_HOURLY\"] - picked_df[\"PW_WAGE_HOURLY\"]"
   ]
  },
  {
   "cell_type": "markdown",
   "metadata": {},
   "source": [
    "**EMPLOY_PERIOD**: based on start and end date.<br>\n",
    "Our intuition here is that the longer someone get employed with same employer, he shows the loyalty and then the visa is more likely to be approved."
   ]
  },
  {
   "cell_type": "code",
   "execution_count": 41,
   "metadata": {},
   "outputs": [],
   "source": [
    "import datetime\n",
    "picked_df['PERIOD_OF_EMPLOYMENT_END_DATE'] = picked_df['PERIOD_OF_EMPLOYMENT_END_DATE'].astype('datetime64[ns]') \n",
    "picked_df['PERIOD_OF_EMPLOYMENT_START_DATE'] = picked_df['PERIOD_OF_EMPLOYMENT_START_DATE'].astype('datetime64[ns]') "
   ]
  },
  {
   "cell_type": "code",
   "execution_count": 42,
   "metadata": {},
   "outputs": [],
   "source": [
    "picked_df['EMPLOY_PERIOD'] = picked_df['PERIOD_OF_EMPLOYMENT_END_DATE'] - picked_df['PERIOD_OF_EMPLOYMENT_START_DATE']"
   ]
  },
  {
   "cell_type": "code",
   "execution_count": 43,
   "metadata": {},
   "outputs": [],
   "source": [
    "picked_df['EMPLOY_PERIOD'] = picked_df['EMPLOY_PERIOD'].astype(str)\n",
    "picked_df['EMPLOY_PERIOD'] = picked_df['EMPLOY_PERIOD'].apply(lambda x: x.split()[0])\n",
    "picked_df['EMPLOY_PERIOD'] = picked_df['EMPLOY_PERIOD'].astype(int)"
   ]
  },
  {
   "cell_type": "markdown",
   "metadata": {},
   "source": [
    "**CASE_PROCESSING_TIME**: DECISION_DATE - CASE_SUBMITTED <br>\n",
    "Our intuition here is that when a case takes a long time to process, the officer is doing a more thorough investigation because they have doubts, and thus, the case gets a higher chance to be denied."
   ]
  },
  {
   "cell_type": "code",
   "execution_count": 44,
   "metadata": {},
   "outputs": [],
   "source": [
    "picked_df['CASE_SUBMITTED'] = picked_df['CASE_SUBMITTED'].apply(lambda x: x.split()[0])"
   ]
  },
  {
   "cell_type": "code",
   "execution_count": 45,
   "metadata": {},
   "outputs": [],
   "source": [
    "picked_df['DECISION_DATE'] = picked_df['DECISION_DATE'].astype('datetime64[ns]') \n",
    "picked_df['CASE_SUBMITTED'] = picked_df['CASE_SUBMITTED'].astype('datetime64[ns]')\n",
    "picked_df['CASE_PROCESSING_TIME'] = picked_df['DECISION_DATE'] - picked_df['CASE_SUBMITTED']"
   ]
  },
  {
   "cell_type": "code",
   "execution_count": 46,
   "metadata": {},
   "outputs": [],
   "source": [
    "picked_df['CASE_PROCESSING_TIME'] = picked_df['CASE_PROCESSING_TIME'].astype(str)\n",
    "picked_df['CASE_PROCESSING_TIME'] = picked_df['CASE_PROCESSING_TIME'].apply(lambda x: x.split()[0])\n",
    "picked_df['CASE_PROCESSING_TIME'] = picked_df['CASE_PROCESSING_TIME'].astype(int)"
   ]
  },
  {
   "cell_type": "markdown",
   "metadata": {},
   "source": [
    "**INDUSTRY**: based on NAICS_CODE (first two numbers) <br>\n",
    "We do not need too detailed sub categories of the industry, so only the big industry categories is good enough.\n",
    "reference: https://www.naics.com/search/"
   ]
  },
  {
   "cell_type": "code",
   "execution_count": 47,
   "metadata": {},
   "outputs": [],
   "source": [
    "picked_df['INDUSTRY'] = picked_df['NAICS_CODE'].astype(str).apply(lambda s: s[:2])"
   ]
  },
  {
   "cell_type": "markdown",
   "metadata": {},
   "source": [
    "**OCCUPATION**: based on SOC_CODE (first two numbers) <br>\n",
    "Same as industry above, we do not need too detailed job title information so we try to extract occupation big categories.<br>\n",
    "reference: https://www.bls.gov/soc/2018/major_groups.htm"
   ]
  },
  {
   "cell_type": "code",
   "execution_count": 48,
   "metadata": {},
   "outputs": [],
   "source": [
    "picked_df['OCCUPATION'] = picked_df['SOC_CODE'].str.split('-', expand=True)[0]\n",
    "picked_df['OCCUPATION'] = picked_df['OCCUPATION'].apply(lambda s: s[:2])"
   ]
  },
  {
   "cell_type": "markdown",
   "metadata": {},
   "source": [
    "#### Convert all columns to the right type"
   ]
  },
  {
   "cell_type": "code",
   "execution_count": 49,
   "metadata": {},
   "outputs": [],
   "source": [
    "picked_df.TOTAL_WORKER_POSITIONS = picked_df.TOTAL_WORKER_POSITIONS.astype(int)\n",
    "picked_df = picked_df[picked_df.CONTINUED_EMPLOYMENT!=\"B\"]\n",
    "picked_df.CONTINUED_EMPLOYMENT = picked_df.CONTINUED_EMPLOYMENT.astype(int)\n",
    "picked_df.NEW_CONCURRENT_EMPLOYMENT = picked_df.NEW_CONCURRENT_EMPLOYMENT.astype(int)\n",
    "picked_df.CHANGE_PREVIOUS_EMPLOYMENT = picked_df.CHANGE_PREVIOUS_EMPLOYMENT.astype(int)\n",
    "picked_df.NEW_EMPLOYMENT = picked_df.NEW_EMPLOYMENT.astype(int)\n",
    "picked_df.AMENDED_PETITION = picked_df.AMENDED_PETITION.astype(int)\n",
    "picked_df.CHANGE_EMPLOYER = picked_df.CHANGE_EMPLOYER.astype(int)\n",
    "picked_df = picked_df[picked_df.INDUSTRY != \"&N\"]\n",
    "picked_df.INDUSTRY = picked_df.INDUSTRY.astype(int)\n",
    "picked_df = picked_df[~picked_df.OCCUPATION.isin(['SO', 'EL', 'CO','EN', 'ME', 'AC', 'AI'])]\n",
    "picked_df = picked_df[picked_df.OCCUPATION != \"OP\"]\n",
    "picked_df.OCCUPATION = picked_df.OCCUPATION.astype(int)"
   ]
  },
  {
   "cell_type": "code",
   "execution_count": 50,
   "metadata": {},
   "outputs": [
    {
     "data": {
      "text/plain": [
       "CASE_STATUS                            0\n",
       "CASE_SUBMITTED                         0\n",
       "DECISION_DATE                          0\n",
       "VISA_CLASS                             0\n",
       "SOC_CODE                               0\n",
       "FULL_TIME_POSITION                     0\n",
       "PERIOD_OF_EMPLOYMENT_START_DATE        0\n",
       "PERIOD_OF_EMPLOYMENT_END_DATE          0\n",
       "TOTAL_WORKER_POSITIONS                 0\n",
       "NEW_EMPLOYMENT                         0\n",
       "CONTINUED_EMPLOYMENT                   0\n",
       "CHANGE_PREVIOUS_EMPLOYMENT             0\n",
       "NEW_CONCURRENT_EMPLOYMENT              0\n",
       "CHANGE_EMPLOYER                        0\n",
       "AMENDED_PETITION                       0\n",
       "EMPLOYER_NAME                          0\n",
       "EMPLOYER_CITY                          0\n",
       "EMPLOYER_STATE                         0\n",
       "NAICS_CODE                             0\n",
       "AGENT_REPRESENTING_EMPLOYER            0\n",
       "WAGE_RATE_OF_PAY_FROM_1                0\n",
       "WAGE_UNIT_OF_PAY_1                     0\n",
       "PREVAILING_WAGE_1                  33235\n",
       "PW_UNIT_OF_PAY_1                   33321\n",
       "PW_WAGE_LEVEL_1                        0\n",
       "H-1B_DEPENDENT                         0\n",
       "WILLFUL_VIOLATOR                       0\n",
       "docFY                                  0\n",
       "WORK_HOURS                             0\n",
       "WAGE_HOURLY                            0\n",
       "PW_WORK_HOURS                      33321\n",
       "PW_WAGE_HOURLY                         0\n",
       "WAGE_DIFF                              0\n",
       "EMPLOY_PERIOD                          0\n",
       "CASE_PROCESSING_TIME                   0\n",
       "INDUSTRY                               0\n",
       "OCCUPATION                             0\n",
       "dtype: int64"
      ]
     },
     "execution_count": 50,
     "metadata": {},
     "output_type": "execute_result"
    }
   ],
   "source": [
    "len(picked_df) - picked_df.count()"
   ]
  },
  {
   "cell_type": "markdown",
   "metadata": {},
   "source": [
    "The data is now ready to be used in Tableau for visualization "
   ]
  },
  {
   "cell_type": "code",
   "execution_count": 51,
   "metadata": {},
   "outputs": [],
   "source": [
    "picked_df.to_csv('tableau_use_new.csv', index=False)"
   ]
  },
  {
   "cell_type": "markdown",
   "metadata": {},
   "source": [
    "## iii. Data Visualization"
   ]
  },
  {
   "cell_type": "markdown",
   "metadata": {},
   "source": [
    "**This part is done in Tableau. See detailed work in EDA.twbx, some notable results are displayed below.**"
   ]
  },
  {
   "cell_type": "code",
   "execution_count": 6,
   "metadata": {},
   "outputs": [
    {
     "data": {
      "text/html": [
       "<div class='tableauPlaceholder' id='viz1588624690723' style='position: relative'><noscript><a href='#'><img alt=' ' src='https:&#47;&#47;public.tableau.com&#47;static&#47;images&#47;H1&#47;H1B_15886243643700&#47;CSVSYear&#47;1_rss.png' style='border: none' /></a></noscript><object class='tableauViz'  style='display:none;'><param name='host_url' value='https%3A%2F%2Fpublic.tableau.com%2F' /> <param name='embed_code_version' value='3' /> <param name='site_root' value='' /><param name='name' value='H1B_15886243643700&#47;CSVSYear' /><param name='tabs' value='no' /><param name='toolbar' value='yes' /><param name='static_image' value='https:&#47;&#47;public.tableau.com&#47;static&#47;images&#47;H1&#47;H1B_15886243643700&#47;CSVSYear&#47;1.png' /> <param name='animate_transition' value='yes' /><param name='display_static_image' value='yes' /><param name='display_spinner' value='yes' /><param name='display_overlay' value='yes' /><param name='display_count' value='yes' /></object></div>                <script type='text/javascript'>                    var divElement = document.getElementById('viz1588624690723');                    var vizElement = divElement.getElementsByTagName('object')[0];                    vizElement.style.width='100%';vizElement.style.height=(divElement.offsetWidth*0.75)+'px';                    var scriptElement = document.createElement('script');                    scriptElement.src = 'https://public.tableau.com/javascripts/api/viz_v1.js';                    vizElement.parentNode.insertBefore(scriptElement, vizElement);                </script>\n"
      ],
      "text/plain": [
       "<IPython.core.display.HTML object>"
      ]
     },
     "metadata": {},
     "output_type": "display_data"
    }
   ],
   "source": [
    "%%HTML \n",
    "<div class='tableauPlaceholder' id='viz1588624690723' style='position: relative'><noscript><a href='#'><img alt=' ' src='https:&#47;&#47;public.tableau.com&#47;static&#47;images&#47;H1&#47;H1B_15886243643700&#47;CSVSYear&#47;1_rss.png' style='border: none' /></a></noscript><object class='tableauViz'  style='display:none;'><param name='host_url' value='https%3A%2F%2Fpublic.tableau.com%2F' /> <param name='embed_code_version' value='3' /> <param name='site_root' value='' /><param name='name' value='H1B_15886243643700&#47;CSVSYear' /><param name='tabs' value='no' /><param name='toolbar' value='yes' /><param name='static_image' value='https:&#47;&#47;public.tableau.com&#47;static&#47;images&#47;H1&#47;H1B_15886243643700&#47;CSVSYear&#47;1.png' /> <param name='animate_transition' value='yes' /><param name='display_static_image' value='yes' /><param name='display_spinner' value='yes' /><param name='display_overlay' value='yes' /><param name='display_count' value='yes' /></object></div>                <script type='text/javascript'>                    var divElement = document.getElementById('viz1588624690723');                    var vizElement = divElement.getElementsByTagName('object')[0];                    vizElement.style.width='100%';vizElement.style.height=(divElement.offsetWidth*0.75)+'px';                    var scriptElement = document.createElement('script');                    scriptElement.src = 'https://public.tableau.com/javascripts/api/viz_v1.js';                    vizElement.parentNode.insertBefore(scriptElement, vizElement);                </script>"
   ]
  },
  {
   "cell_type": "code",
   "execution_count": 7,
   "metadata": {},
   "outputs": [
    {
     "data": {
      "text/html": [
       "<div class='tableauPlaceholder' id='viz1588624726960' style='position: relative'><noscript><a href='#'><img alt=' ' src='https:&#47;&#47;public.tableau.com&#47;static&#47;images&#47;H1&#47;H1B_15886243643700&#47;OccupationVSCS&#47;1_rss.png' style='border: none' /></a></noscript><object class='tableauViz'  style='display:none;'><param name='host_url' value='https%3A%2F%2Fpublic.tableau.com%2F' /> <param name='embed_code_version' value='3' /> <param name='site_root' value='' /><param name='name' value='H1B_15886243643700&#47;OccupationVSCS' /><param name='tabs' value='no' /><param name='toolbar' value='yes' /><param name='static_image' value='https:&#47;&#47;public.tableau.com&#47;static&#47;images&#47;H1&#47;H1B_15886243643700&#47;OccupationVSCS&#47;1.png' /> <param name='animate_transition' value='yes' /><param name='display_static_image' value='yes' /><param name='display_spinner' value='yes' /><param name='display_overlay' value='yes' /><param name='display_count' value='yes' /></object></div>                <script type='text/javascript'>                    var divElement = document.getElementById('viz1588624726960');                    var vizElement = divElement.getElementsByTagName('object')[0];                    vizElement.style.width='100%';vizElement.style.height=(divElement.offsetWidth*0.75)+'px';                    var scriptElement = document.createElement('script');                    scriptElement.src = 'https://public.tableau.com/javascripts/api/viz_v1.js';                    vizElement.parentNode.insertBefore(scriptElement, vizElement);                </script>\n"
      ],
      "text/plain": [
       "<IPython.core.display.HTML object>"
      ]
     },
     "metadata": {},
     "output_type": "display_data"
    }
   ],
   "source": [
    "%%HTML \n",
    "<div class='tableauPlaceholder' id='viz1588624726960' style='position: relative'><noscript><a href='#'><img alt=' ' src='https:&#47;&#47;public.tableau.com&#47;static&#47;images&#47;H1&#47;H1B_15886243643700&#47;OccupationVSCS&#47;1_rss.png' style='border: none' /></a></noscript><object class='tableauViz'  style='display:none;'><param name='host_url' value='https%3A%2F%2Fpublic.tableau.com%2F' /> <param name='embed_code_version' value='3' /> <param name='site_root' value='' /><param name='name' value='H1B_15886243643700&#47;OccupationVSCS' /><param name='tabs' value='no' /><param name='toolbar' value='yes' /><param name='static_image' value='https:&#47;&#47;public.tableau.com&#47;static&#47;images&#47;H1&#47;H1B_15886243643700&#47;OccupationVSCS&#47;1.png' /> <param name='animate_transition' value='yes' /><param name='display_static_image' value='yes' /><param name='display_spinner' value='yes' /><param name='display_overlay' value='yes' /><param name='display_count' value='yes' /></object></div>                <script type='text/javascript'>                    var divElement = document.getElementById('viz1588624726960');                    var vizElement = divElement.getElementsByTagName('object')[0];                    vizElement.style.width='100%';vizElement.style.height=(divElement.offsetWidth*0.75)+'px';                    var scriptElement = document.createElement('script');                    scriptElement.src = 'https://public.tableau.com/javascripts/api/viz_v1.js';                    vizElement.parentNode.insertBefore(scriptElement, vizElement);                </script>"
   ]
  },
  {
   "cell_type": "code",
   "execution_count": 8,
   "metadata": {},
   "outputs": [
    {
     "data": {
      "text/html": [
       "<div class='tableauPlaceholder' id='viz1588624756483' style='position: relative'><noscript><a href='#'><img alt=' ' src='https:&#47;&#47;public.tableau.com&#47;static&#47;images&#47;H1&#47;H1B_15886243643700&#47;IndustryVSCS&#47;1_rss.png' style='border: none' /></a></noscript><object class='tableauViz'  style='display:none;'><param name='host_url' value='https%3A%2F%2Fpublic.tableau.com%2F' /> <param name='embed_code_version' value='3' /> <param name='site_root' value='' /><param name='name' value='H1B_15886243643700&#47;IndustryVSCS' /><param name='tabs' value='no' /><param name='toolbar' value='yes' /><param name='static_image' value='https:&#47;&#47;public.tableau.com&#47;static&#47;images&#47;H1&#47;H1B_15886243643700&#47;IndustryVSCS&#47;1.png' /> <param name='animate_transition' value='yes' /><param name='display_static_image' value='yes' /><param name='display_spinner' value='yes' /><param name='display_overlay' value='yes' /><param name='display_count' value='yes' /></object></div>                <script type='text/javascript'>                    var divElement = document.getElementById('viz1588624756483');                    var vizElement = divElement.getElementsByTagName('object')[0];                    vizElement.style.width='100%';vizElement.style.height=(divElement.offsetWidth*0.75)+'px';                    var scriptElement = document.createElement('script');                    scriptElement.src = 'https://public.tableau.com/javascripts/api/viz_v1.js';                    vizElement.parentNode.insertBefore(scriptElement, vizElement);                </script>\n"
      ],
      "text/plain": [
       "<IPython.core.display.HTML object>"
      ]
     },
     "metadata": {},
     "output_type": "display_data"
    }
   ],
   "source": [
    "%%HTML \n",
    "<div class='tableauPlaceholder' id='viz1588624756483' style='position: relative'><noscript><a href='#'><img alt=' ' src='https:&#47;&#47;public.tableau.com&#47;static&#47;images&#47;H1&#47;H1B_15886243643700&#47;IndustryVSCS&#47;1_rss.png' style='border: none' /></a></noscript><object class='tableauViz'  style='display:none;'><param name='host_url' value='https%3A%2F%2Fpublic.tableau.com%2F' /> <param name='embed_code_version' value='3' /> <param name='site_root' value='' /><param name='name' value='H1B_15886243643700&#47;IndustryVSCS' /><param name='tabs' value='no' /><param name='toolbar' value='yes' /><param name='static_image' value='https:&#47;&#47;public.tableau.com&#47;static&#47;images&#47;H1&#47;H1B_15886243643700&#47;IndustryVSCS&#47;1.png' /> <param name='animate_transition' value='yes' /><param name='display_static_image' value='yes' /><param name='display_spinner' value='yes' /><param name='display_overlay' value='yes' /><param name='display_count' value='yes' /></object></div>                <script type='text/javascript'>                    var divElement = document.getElementById('viz1588624756483');                    var vizElement = divElement.getElementsByTagName('object')[0];                    vizElement.style.width='100%';vizElement.style.height=(divElement.offsetWidth*0.75)+'px';                    var scriptElement = document.createElement('script');                    scriptElement.src = 'https://public.tableau.com/javascripts/api/viz_v1.js';                    vizElement.parentNode.insertBefore(scriptElement, vizElement);                </script>"
   ]
  },
  {
   "cell_type": "code",
   "execution_count": 4,
   "metadata": {
    "scrolled": true
   },
   "outputs": [
    {
     "data": {
      "text/html": [
       "<div class='tableauPlaceholder' id='viz1588624399752' style='position: relative'><noscript><a href='#'><img alt=' ' src='https:&#47;&#47;public.tableau.com&#47;static&#47;images&#47;H1&#47;H1B_15886243643700&#47;OccupationVSWage&#47;1_rss.png' style='border: none' /></a></noscript><object class='tableauViz'  style='display:none;'><param name='host_url' value='https%3A%2F%2Fpublic.tableau.com%2F' /> <param name='embed_code_version' value='3' /> <param name='site_root' value='' /><param name='name' value='H1B_15886243643700&#47;OccupationVSWage' /><param name='tabs' value='no' /><param name='toolbar' value='yes' /><param name='static_image' value='https:&#47;&#47;public.tableau.com&#47;static&#47;images&#47;H1&#47;H1B_15886243643700&#47;OccupationVSWage&#47;1.png' /> <param name='animate_transition' value='yes' /><param name='display_static_image' value='yes' /><param name='display_spinner' value='yes' /><param name='display_overlay' value='yes' /><param name='display_count' value='yes' /><param name='filter' value='publish=yes' /></object></div>                <script type='text/javascript'>                    var divElement = document.getElementById('viz1588624399752');                    var vizElement = divElement.getElementsByTagName('object')[0];                    vizElement.style.width='100%';vizElement.style.height=(divElement.offsetWidth*0.75)+'px';                    var scriptElement = document.createElement('script');                    scriptElement.src = 'https://public.tableau.com/javascripts/api/viz_v1.js';                    vizElement.parentNode.insertBefore(scriptElement, vizElement);                </script>\n"
      ],
      "text/plain": [
       "<IPython.core.display.HTML object>"
      ]
     },
     "metadata": {},
     "output_type": "display_data"
    }
   ],
   "source": [
    "%%HTML \n",
    "<div class='tableauPlaceholder' id='viz1588624399752' style='position: relative'><noscript><a href='#'><img alt=' ' src='https:&#47;&#47;public.tableau.com&#47;static&#47;images&#47;H1&#47;H1B_15886243643700&#47;OccupationVSWage&#47;1_rss.png' style='border: none' /></a></noscript><object class='tableauViz'  style='display:none;'><param name='host_url' value='https%3A%2F%2Fpublic.tableau.com%2F' /> <param name='embed_code_version' value='3' /> <param name='site_root' value='' /><param name='name' value='H1B_15886243643700&#47;OccupationVSWage' /><param name='tabs' value='no' /><param name='toolbar' value='yes' /><param name='static_image' value='https:&#47;&#47;public.tableau.com&#47;static&#47;images&#47;H1&#47;H1B_15886243643700&#47;OccupationVSWage&#47;1.png' /> <param name='animate_transition' value='yes' /><param name='display_static_image' value='yes' /><param name='display_spinner' value='yes' /><param name='display_overlay' value='yes' /><param name='display_count' value='yes' /><param name='filter' value='publish=yes' /></object></div>                <script type='text/javascript'>                    var divElement = document.getElementById('viz1588624399752');                    var vizElement = divElement.getElementsByTagName('object')[0];                    vizElement.style.width='100%';vizElement.style.height=(divElement.offsetWidth*0.75)+'px';                    var scriptElement = document.createElement('script');                    scriptElement.src = 'https://public.tableau.com/javascripts/api/viz_v1.js';                    vizElement.parentNode.insertBefore(scriptElement, vizElement);                </script>"
   ]
  },
  {
   "cell_type": "code",
   "execution_count": 9,
   "metadata": {},
   "outputs": [
    {
     "data": {
      "text/html": [
       "<div class='tableauPlaceholder' id='viz1588624781227' style='position: relative'><noscript><a href='#'><img alt=' ' src='https:&#47;&#47;public.tableau.com&#47;static&#47;images&#47;H1&#47;H1B_15886243643700&#47;DIFFVSCS&#47;1_rss.png' style='border: none' /></a></noscript><object class='tableauViz'  style='display:none;'><param name='host_url' value='https%3A%2F%2Fpublic.tableau.com%2F' /> <param name='embed_code_version' value='3' /> <param name='site_root' value='' /><param name='name' value='H1B_15886243643700&#47;DIFFVSCS' /><param name='tabs' value='no' /><param name='toolbar' value='yes' /><param name='static_image' value='https:&#47;&#47;public.tableau.com&#47;static&#47;images&#47;H1&#47;H1B_15886243643700&#47;DIFFVSCS&#47;1.png' /> <param name='animate_transition' value='yes' /><param name='display_static_image' value='yes' /><param name='display_spinner' value='yes' /><param name='display_overlay' value='yes' /><param name='display_count' value='yes' /></object></div>                <script type='text/javascript'>                    var divElement = document.getElementById('viz1588624781227');                    var vizElement = divElement.getElementsByTagName('object')[0];                    vizElement.style.width='100%';vizElement.style.height=(divElement.offsetWidth*0.75)+'px';                    var scriptElement = document.createElement('script');                    scriptElement.src = 'https://public.tableau.com/javascripts/api/viz_v1.js';                    vizElement.parentNode.insertBefore(scriptElement, vizElement);                </script>\n"
      ],
      "text/plain": [
       "<IPython.core.display.HTML object>"
      ]
     },
     "metadata": {},
     "output_type": "display_data"
    }
   ],
   "source": [
    "%%HTML \n",
    "<div class='tableauPlaceholder' id='viz1588624781227' style='position: relative'><noscript><a href='#'><img alt=' ' src='https:&#47;&#47;public.tableau.com&#47;static&#47;images&#47;H1&#47;H1B_15886243643700&#47;DIFFVSCS&#47;1_rss.png' style='border: none' /></a></noscript><object class='tableauViz'  style='display:none;'><param name='host_url' value='https%3A%2F%2Fpublic.tableau.com%2F' /> <param name='embed_code_version' value='3' /> <param name='site_root' value='' /><param name='name' value='H1B_15886243643700&#47;DIFFVSCS' /><param name='tabs' value='no' /><param name='toolbar' value='yes' /><param name='static_image' value='https:&#47;&#47;public.tableau.com&#47;static&#47;images&#47;H1&#47;H1B_15886243643700&#47;DIFFVSCS&#47;1.png' /> <param name='animate_transition' value='yes' /><param name='display_static_image' value='yes' /><param name='display_spinner' value='yes' /><param name='display_overlay' value='yes' /><param name='display_count' value='yes' /></object></div>                <script type='text/javascript'>                    var divElement = document.getElementById('viz1588624781227');                    var vizElement = divElement.getElementsByTagName('object')[0];                    vizElement.style.width='100%';vizElement.style.height=(divElement.offsetWidth*0.75)+'px';                    var scriptElement = document.createElement('script');                    scriptElement.src = 'https://public.tableau.com/javascripts/api/viz_v1.js';                    vizElement.parentNode.insertBefore(scriptElement, vizElement);                </script>"
   ]
  },
  {
   "cell_type": "markdown",
   "metadata": {},
   "source": [
    "Some key findings from data visualization: <br>\n",
    "1. As for basic distributions, this is a highly imbalanced dataset, over 97% cases are certified, and only around 2% are denied. Most applications were for H-1B (general) applications and came from California, Texas and New Jersey.\n",
    "2. Certified rate keeps increasing through the years.\n",
    "3. Individual wage lower than prevailing wage is very likely to result in denial.\n",
    "4. Job positions in technology, engineering, business have higher certified rate.\n",
    "5. Employers with agent representing and being H-1B dependent, and applications for full time positions have a positive influence on certified rate."
   ]
  },
  {
   "cell_type": "markdown",
   "metadata": {},
   "source": [
    "# III. Data Modeling"
   ]
  },
  {
   "cell_type": "markdown",
   "metadata": {},
   "source": [
    "\n",
    "Our objective in this phase is to develop a model which can tell us whether an individual will be rejected or approved of a H1B visa based on various characteristics in the data. We will only look at case status of 'CERTIFIED' and 'DENIED'. <br>\n",
    "\n",
    "This part is divided into four parts. <br>\n",
    "1. Data Preprocessing\n",
    "2. Model Selection\n",
    "3. Prediction\n",
    "4. Model Interpretation"
   ]
  },
  {
   "cell_type": "code",
   "execution_count": 52,
   "metadata": {},
   "outputs": [],
   "source": [
    "picked_df = pd.read_csv('tableau_use_new.csv')"
   ]
  },
  {
   "cell_type": "markdown",
   "metadata": {},
   "source": [
    "## i. Data Preprocessing"
   ]
  },
  {
   "cell_type": "markdown",
   "metadata": {},
   "source": [
    "##### a. Drop columns that are not used for modeling."
   ]
  },
  {
   "cell_type": "code",
   "execution_count": 53,
   "metadata": {},
   "outputs": [],
   "source": [
    "drop_columns = [\"CASE_SUBMITTED\", \"DECISION_DATE\", \"SOC_CODE\", \"PERIOD_OF_EMPLOYMENT_START_DATE\", \n",
    "                \"PERIOD_OF_EMPLOYMENT_END_DATE\", \"NAICS_CODE\", \"WAGE_RATE_OF_PAY_FROM_1\", \"WAGE_UNIT_OF_PAY_1\", \n",
    "                \"PREVAILING_WAGE_1\", \"PW_UNIT_OF_PAY_1\", \"WORK_HOURS\", \"PW_WORK_HOURS\", \"EMPLOYER_NAME\", \n",
    "                \"EMPLOYER_CITY\", \"EMPLOYER_STATE\"]"
   ]
  },
  {
   "cell_type": "code",
   "execution_count": 54,
   "metadata": {},
   "outputs": [],
   "source": [
    "model_df = picked_df.drop(drop_columns, axis=1)"
   ]
  },
  {
   "cell_type": "code",
   "execution_count": 55,
   "metadata": {},
   "outputs": [
    {
     "data": {
      "text/plain": [
       "(1943293, 22)"
      ]
     },
     "execution_count": 55,
     "metadata": {},
     "output_type": "execute_result"
    }
   ],
   "source": [
    "model_df.shape"
   ]
  },
  {
   "cell_type": "code",
   "execution_count": 56,
   "metadata": {},
   "outputs": [
    {
     "name": "stdout",
     "output_type": "stream",
     "text": [
      "<class 'pandas.core.frame.DataFrame'>\n",
      "RangeIndex: 1943293 entries, 0 to 1943292\n",
      "Data columns (total 22 columns):\n",
      "CASE_STATUS                    object\n",
      "VISA_CLASS                     object\n",
      "FULL_TIME_POSITION             object\n",
      "TOTAL_WORKER_POSITIONS         int64\n",
      "NEW_EMPLOYMENT                 int64\n",
      "CONTINUED_EMPLOYMENT           int64\n",
      "CHANGE_PREVIOUS_EMPLOYMENT     int64\n",
      "NEW_CONCURRENT_EMPLOYMENT      int64\n",
      "CHANGE_EMPLOYER                int64\n",
      "AMENDED_PETITION               int64\n",
      "AGENT_REPRESENTING_EMPLOYER    object\n",
      "PW_WAGE_LEVEL_1                object\n",
      "H-1B_DEPENDENT                 object\n",
      "WILLFUL_VIOLATOR               object\n",
      "docFY                          int64\n",
      "WAGE_HOURLY                    float64\n",
      "PW_WAGE_HOURLY                 float64\n",
      "WAGE_DIFF                      float64\n",
      "EMPLOY_PERIOD                  int64\n",
      "CASE_PROCESSING_TIME           int64\n",
      "INDUSTRY                       int64\n",
      "OCCUPATION                     int64\n",
      "dtypes: float64(3), int64(12), object(7)\n",
      "memory usage: 326.2+ MB\n"
     ]
    }
   ],
   "source": [
    "model_df.info()"
   ]
  },
  {
   "cell_type": "code",
   "execution_count": 57,
   "metadata": {},
   "outputs": [],
   "source": [
    "model_df.to_csv(\"model_df_new.csv\", index=False) # save for convenience"
   ]
  },
  {
   "cell_type": "markdown",
   "metadata": {},
   "source": [
    "##### b. For our analysis, we consider CERTIFIED and DENIED cases only."
   ]
  },
  {
   "cell_type": "code",
   "execution_count": 58,
   "metadata": {},
   "outputs": [],
   "source": [
    "model_df = pd.read_csv('model_df_new.csv')"
   ]
  },
  {
   "cell_type": "code",
   "execution_count": 59,
   "metadata": {},
   "outputs": [
    {
     "data": {
      "text/plain": [
       "array(['WITHDRAWN', 'CERTIFIED-WITHDRAWN', 'CERTIFIED', 'DENIED'],\n",
       "      dtype=object)"
      ]
     },
     "execution_count": 59,
     "metadata": {},
     "output_type": "execute_result"
    }
   ],
   "source": [
    "model_df.CASE_STATUS.unique()"
   ]
  },
  {
   "cell_type": "code",
   "execution_count": 60,
   "metadata": {},
   "outputs": [],
   "source": [
    "binary_df = model_df[(model_df[\"CASE_STATUS\"]=='CERTIFIED')|(model_df[\"CASE_STATUS\"]=='DENIED')]"
   ]
  },
  {
   "cell_type": "code",
   "execution_count": 61,
   "metadata": {},
   "outputs": [
    {
     "data": {
      "text/plain": [
       "CERTIFIED    1717043\n",
       "DENIED         22931\n",
       "Name: CASE_STATUS, dtype: int64"
      ]
     },
     "execution_count": 61,
     "metadata": {},
     "output_type": "execute_result"
    }
   ],
   "source": [
    "binary_df.CASE_STATUS.value_counts()"
   ]
  },
  {
   "cell_type": "markdown",
   "metadata": {},
   "source": [
    "**This is a highly imbalanced data, the vast majority of cases are certified while denied cases are only around 1% of it. before we fit our model, we need to get a more balanced data for modeling purpose.**"
   ]
  },
  {
   "cell_type": "markdown",
   "metadata": {},
   "source": [
    "**Our method: Undersampling<br>\n",
    "Keep all the denied cases(22931) and randomly select 23000 certified cases so that we have half and half both cases in the data.**"
   ]
  },
  {
   "cell_type": "code",
   "execution_count": 62,
   "metadata": {},
   "outputs": [],
   "source": [
    "denied_cases = model_df[model_df[\"CASE_STATUS\"]=='DENIED']\n",
    "approved_cases = model_df[model_df[\"CASE_STATUS\"]=='CERTIFIED']\n",
    "ran_select_approve_case = approved_cases.sample(n=23000, replace=True, random_state=123) \n",
    "frames = [ran_select_approve_case, denied_cases]\n",
    "combined_df = pd.concat(frames, sort=False, ignore_index=True)\n",
    "combined_df = combined_df.sort_index()"
   ]
  },
  {
   "cell_type": "code",
   "execution_count": 63,
   "metadata": {},
   "outputs": [
    {
     "data": {
      "text/plain": [
       "CERTIFIED    23000\n",
       "DENIED       22931\n",
       "Name: CASE_STATUS, dtype: int64"
      ]
     },
     "execution_count": 63,
     "metadata": {},
     "output_type": "execute_result"
    }
   ],
   "source": [
    "combined_df.CASE_STATUS.value_counts()"
   ]
  },
  {
   "cell_type": "markdown",
   "metadata": {},
   "source": [
    "convert y column to numerical value"
   ]
  },
  {
   "cell_type": "code",
   "execution_count": 66,
   "metadata": {},
   "outputs": [],
   "source": [
    "# map column values to integers\n",
    "combined_df.CASE_STATUS = combined_df.CASE_STATUS.map({\"CERTIFIED\": 0, \"DENIED\": 1})"
   ]
  },
  {
   "cell_type": "code",
   "execution_count": 67,
   "metadata": {},
   "outputs": [],
   "source": [
    "combined_df.to_csv('undersampled_model_df.csv', index=False) # save for convenience"
   ]
  },
  {
   "cell_type": "markdown",
   "metadata": {},
   "source": [
    "##### c. Choose label and features for modeling"
   ]
  },
  {
   "cell_type": "code",
   "execution_count": 68,
   "metadata": {},
   "outputs": [],
   "source": [
    "combined_df = pd.read_csv('undersampled_model_df.csv')"
   ]
  },
  {
   "cell_type": "code",
   "execution_count": 69,
   "metadata": {},
   "outputs": [],
   "source": [
    "label = 'CASE_STATUS'\n",
    "features = ['PW_WAGE_LEVEL_1', 'WAGE_HOURLY', 'WAGE_DIFF', 'CASE_PROCESSING_TIME', 'INDUSTRY', 'OCCUPATION', \n",
    "            'AGENT_REPRESENTING_EMPLOYER', 'H-1B_DEPENDENT', 'FULL_TIME_POSITION']"
   ]
  },
  {
   "cell_type": "code",
   "execution_count": 70,
   "metadata": {},
   "outputs": [],
   "source": [
    "cont_features = ['WAGE_HOURLY', 'WAGE_DIFF', 'CASE_PROCESSING_TIME']\n",
    "dis_features = ['PW_WAGE_LEVEL_1', 'INDUSTRY', 'OCCUPATION', \n",
    "                'AGENT_REPRESENTING_EMPLOYER', 'H-1B_DEPENDENT', 'FULL_TIME_POSITION']"
   ]
  },
  {
   "cell_type": "code",
   "execution_count": 71,
   "metadata": {},
   "outputs": [],
   "source": [
    "y = combined_df[label]\n",
    "X = combined_df[features]"
   ]
  },
  {
   "cell_type": "markdown",
   "metadata": {},
   "source": [
    "##### d. Separate train and test dataset"
   ]
  },
  {
   "cell_type": "code",
   "execution_count": 72,
   "metadata": {},
   "outputs": [],
   "source": [
    "from sklearn.model_selection import train_test_split\n",
    "X_train, X_test, y_train, y_test = train_test_split(X, y, random_state=0)"
   ]
  },
  {
   "cell_type": "markdown",
   "metadata": {},
   "source": [
    "##### e. Transform some features on training set"
   ]
  },
  {
   "cell_type": "code",
   "execution_count": 73,
   "metadata": {},
   "outputs": [],
   "source": [
    "from sklearn.preprocessing import StandardScaler, OneHotEncoder\n",
    "from sklearn.compose import make_column_transformer"
   ]
  },
  {
   "cell_type": "code",
   "execution_count": 74,
   "metadata": {},
   "outputs": [],
   "source": [
    "ohe = OneHotEncoder(handle_unknown='ignore')\n",
    "sc = StandardScaler()"
   ]
  },
  {
   "cell_type": "code",
   "execution_count": 75,
   "metadata": {},
   "outputs": [],
   "source": [
    "ct = make_column_transformer(\n",
    "      (sc, cont_features),\n",
    "      (ohe, dis_features),\n",
    "      remainder=\"passthrough\"\n",
    ")"
   ]
  },
  {
   "cell_type": "code",
   "execution_count": 76,
   "metadata": {
    "scrolled": true
   },
   "outputs": [],
   "source": [
    "ct.fit(X_train)\n",
    "transformed_X_train = ct.transform(X_train)"
   ]
  },
  {
   "cell_type": "markdown",
   "metadata": {},
   "source": [
    "## ii. Model Selection"
   ]
  },
  {
   "cell_type": "markdown",
   "metadata": {},
   "source": [
    "The models we tried in this stage include:<br>\n",
    "<br>\n",
    "**Logistic Regression**<br>\n",
    "<br>\n",
    "**Decision Tree**<br>\n",
    "<br>\n",
    "**Random Forest**<br>\n",
    "<br>\n",
    "**XG boost**<br>\n",
    "<br>\n",
    "Here, we list some of the metrics that are used for choosing hyperparameters."
   ]
  },
  {
   "cell_type": "code",
   "execution_count": 77,
   "metadata": {},
   "outputs": [],
   "source": [
    "from sklearn.model_selection import GridSearchCV\n",
    "from sklearn.metrics import accuracy_score\n",
    "from sklearn.metrics import precision_score\n",
    "from sklearn.metrics import recall_score\n",
    "from sklearn.metrics import f1_score\n",
    "from sklearn.metrics import roc_auc_score"
   ]
  },
  {
   "cell_type": "markdown",
   "metadata": {},
   "source": [
    "Note: All the parameter grids in the following CV are chosen from multiple iterations, just to narrow it down to reduce the training time."
   ]
  },
  {
   "cell_type": "code",
   "execution_count": 78,
   "metadata": {},
   "outputs": [],
   "source": [
    "def cv_for_model_selection(model, parameters, verbose=False):\n",
    "    '''\n",
    "    A decorator for GridSearchCV that can print out important information.\n",
    "    '''\n",
    "    scores = ['accuracy', 'f1']\n",
    "    for score in scores:\n",
    "        params = parameters\n",
    "        print(\"# Scoring: %s\" % score)\n",
    "        clf = GridSearchCV(model, params, scoring=score, n_jobs=-1)\n",
    "        clf.fit(transformed_X_train, y_train)\n",
    "        print('Best Params: ', clf.best_params_)\n",
    "        print('Best Score: ', clf.best_score_)\n",
    "        if verbose:\n",
    "            print(\"Grid scores:\")\n",
    "            means = clf.cv_results_['mean_test_score']\n",
    "            stds = clf.cv_results_['std_test_score']\n",
    "            for mean, std, params in zip(means, stds, clf.cv_results_['params']):\n",
    "                print(\"Mean: %0.3f, std: %0.4f, mean / std: %0.3f for %r\" % (mean, std, mean / std, params))"
   ]
  },
  {
   "cell_type": "markdown",
   "metadata": {},
   "source": [
    "### Logistic Regression"
   ]
  },
  {
   "cell_type": "code",
   "execution_count": 1,
   "metadata": {
    "scrolled": true
   },
   "outputs": [
    {
     "output_type": "error",
     "ename": "NameError",
     "evalue": "name 'np' is not defined",
     "traceback": [
      "\u001b[0;31m---------------------------------------------------------------------------\u001b[0m",
      "\u001b[0;31mNameError\u001b[0m                                 Traceback (most recent call last)",
      "\u001b[0;32m<ipython-input-1-4655cea9a8dd>\u001b[0m in \u001b[0;36m<module>\u001b[0;34m\u001b[0m\n\u001b[1;32m      1\u001b[0m \u001b[0;32mfrom\u001b[0m \u001b[0msklearn\u001b[0m\u001b[0;34m.\u001b[0m\u001b[0mlinear_model\u001b[0m \u001b[0;32mimport\u001b[0m \u001b[0mLogisticRegression\u001b[0m\u001b[0;34m\u001b[0m\u001b[0;34m\u001b[0m\u001b[0m\n\u001b[1;32m      2\u001b[0m \u001b[0mlgr\u001b[0m \u001b[0;34m=\u001b[0m \u001b[0mLogisticRegression\u001b[0m\u001b[0;34m(\u001b[0m\u001b[0;34m)\u001b[0m\u001b[0;34m\u001b[0m\u001b[0;34m\u001b[0m\u001b[0m\n\u001b[0;32m----> 3\u001b[0;31m \u001b[0mlgr_params\u001b[0m \u001b[0;34m=\u001b[0m \u001b[0;34m{\u001b[0m\u001b[0;34m'C'\u001b[0m\u001b[0;34m:\u001b[0m \u001b[0mnp\u001b[0m\u001b[0;34m.\u001b[0m\u001b[0marray\u001b[0m\u001b[0;34m(\u001b[0m\u001b[0;34m[\u001b[0m\u001b[0;36m0.01\u001b[0m\u001b[0;34m,\u001b[0m \u001b[0;36m0.1\u001b[0m\u001b[0;34m,\u001b[0m \u001b[0;36m1\u001b[0m\u001b[0;34m,\u001b[0m \u001b[0;36m10\u001b[0m\u001b[0;34m]\u001b[0m\u001b[0;34m)\u001b[0m\u001b[0;34m}\u001b[0m\u001b[0;34m\u001b[0m\u001b[0;34m\u001b[0m\u001b[0m\n\u001b[0m\u001b[1;32m      4\u001b[0m \u001b[0mcv_for_model_selection\u001b[0m\u001b[0;34m(\u001b[0m\u001b[0mlgr\u001b[0m\u001b[0;34m,\u001b[0m \u001b[0mlgr_params\u001b[0m\u001b[0;34m)\u001b[0m\u001b[0;34m\u001b[0m\u001b[0;34m\u001b[0m\u001b[0m\n",
      "\u001b[0;31mNameError\u001b[0m: name 'np' is not defined"
     ]
    }
   ],
   "source": [
    "from sklearn.linear_model import LogisticRegression\n",
    "lgr = LogisticRegression()\n",
    "lgr_params = {'C': np.array([0.01, 0.1, 1, 10])}\n",
    "cv_for_model_selection(lgr, lgr_params)"
   ]
  },
  {
   "cell_type": "code",
   "execution_count": 84,
   "metadata": {
    "scrolled": true
   },
   "outputs": [
    {
     "name": "stdout",
     "output_type": "stream",
     "text": [
      "Accuracy:  0.7954307942405945\n",
      "Precision:  0.815226209048362\n",
      "Recall:  0.7617492711370263\n",
      "F1:  0.7875810097965336\n",
      "ROC_AUC:  0.7952867063281385\n"
     ]
    }
   ],
   "source": [
    "lgr_cv = LogisticRegression(C=0.1)\n",
    "lgr_cv.fit(transformed_X_train, y_train)\n",
    "lgr_pred_y_train = lgr_cv.predict(transformed_X_train)\n",
    "print('Accuracy: ', accuracy_score(y_train, lgr_pred_y_train))\n",
    "print('Precision: ', precision_score(y_train, lgr_pred_y_train))\n",
    "print('Recall: ', recall_score(y_train, lgr_pred_y_train))\n",
    "print('F1: ', f1_score(y_train, lgr_pred_y_train))\n",
    "print('ROC_AUC: ', roc_auc_score(y_train, lgr_pred_y_train))"
   ]
  },
  {
   "cell_type": "markdown",
   "metadata": {},
   "source": [
    "### Decision Tree"
   ]
  },
  {
   "cell_type": "code",
   "execution_count": 82,
   "metadata": {
    "scrolled": true
   },
   "outputs": [
    {
     "name": "stdout",
     "output_type": "stream",
     "text": [
      "# Scoring: accuracy\n",
      "Best Params:  {'max_depth': 12, 'min_impurity_decrease': 0.0001}\n",
      "Best Score:  0.855666476562518\n",
      "# Scoring: f1\n",
      "Best Params:  {'max_depth': 11, 'min_impurity_decrease': 0.0001}\n",
      "Best Score:  0.8451146952086249\n"
     ]
    }
   ],
   "source": [
    "from sklearn.tree import DecisionTreeClassifier\n",
    "dt = DecisionTreeClassifier()\n",
    "dt_params = {'max_depth': np.arange(9, 15), 'min_impurity_decrease': [1e-5, 3e-5, 1e-4, 3e-4, 1e-3]}\n",
    "cv_for_model_selection(dt, dt_params)"
   ]
  },
  {
   "cell_type": "code",
   "execution_count": 86,
   "metadata": {},
   "outputs": [
    {
     "name": "stdout",
     "output_type": "stream",
     "text": [
      "Accuracy:  0.8680039479795634\n",
      "Precision:  0.9116743973345528\n",
      "Recall:  0.8137026239067056\n",
      "F1:  0.8599069538158177\n",
      "ROC_AUC:  0.8677716495646374\n"
     ]
    }
   ],
   "source": [
    "dt_cv = DecisionTreeClassifier(max_depth=12, min_impurity_decrease=0.0001)\n",
    "dt_cv.fit(transformed_X_train, y_train)\n",
    "dt_pred_y_train = dt_cv.predict(transformed_X_train)\n",
    "print('Accuracy: ', accuracy_score(y_train, dt_pred_y_train))\n",
    "print('Precision: ', precision_score(y_train, dt_pred_y_train))\n",
    "print('Recall: ', recall_score(y_train, dt_pred_y_train))\n",
    "print('F1: ', f1_score(y_train, dt_pred_y_train))\n",
    "print('ROC_AUC: ', roc_auc_score(y_train, dt_pred_y_train))"
   ]
  },
  {
   "cell_type": "markdown",
   "metadata": {},
   "source": [
    "### Random Forest"
   ]
  },
  {
   "cell_type": "code",
   "execution_count": 90,
   "metadata": {
    "scrolled": true
   },
   "outputs": [
    {
     "name": "stdout",
     "output_type": "stream",
     "text": [
      "# Scoring: accuracy\n",
      "Best Params:  {'max_depth': 20, 'min_impurity_decrease': 1e-08}\n",
      "Best Score:  0.8619077804564649\n",
      "Grid scores:\n",
      "Mean: 0.860, std: 0.0024, mean / std: 364.978 for {'max_depth': 17, 'min_impurity_decrease': 1e-09}\n",
      "Mean: 0.860, std: 0.0022, mean / std: 395.541 for {'max_depth': 17, 'min_impurity_decrease': 3e-09}\n",
      "Mean: 0.860, std: 0.0015, mean / std: 583.800 for {'max_depth': 17, 'min_impurity_decrease': 1e-08}\n",
      "Mean: 0.860, std: 0.0019, mean / std: 464.017 for {'max_depth': 17, 'min_impurity_decrease': 3e-08}\n",
      "Mean: 0.860, std: 0.0028, mean / std: 305.004 for {'max_depth': 18, 'min_impurity_decrease': 1e-09}\n",
      "Mean: 0.860, std: 0.0029, mean / std: 300.225 for {'max_depth': 18, 'min_impurity_decrease': 3e-09}\n",
      "Mean: 0.860, std: 0.0020, mean / std: 420.900 for {'max_depth': 18, 'min_impurity_decrease': 1e-08}\n",
      "Mean: 0.860, std: 0.0030, mean / std: 287.283 for {'max_depth': 18, 'min_impurity_decrease': 3e-08}\n",
      "Mean: 0.861, std: 0.0020, mean / std: 424.652 for {'max_depth': 19, 'min_impurity_decrease': 1e-09}\n",
      "Mean: 0.860, std: 0.0018, mean / std: 484.505 for {'max_depth': 19, 'min_impurity_decrease': 3e-09}\n",
      "Mean: 0.861, std: 0.0025, mean / std: 342.000 for {'max_depth': 19, 'min_impurity_decrease': 1e-08}\n",
      "Mean: 0.861, std: 0.0020, mean / std: 431.527 for {'max_depth': 19, 'min_impurity_decrease': 3e-08}\n",
      "Mean: 0.862, std: 0.0025, mean / std: 341.853 for {'max_depth': 20, 'min_impurity_decrease': 1e-09}\n",
      "Mean: 0.862, std: 0.0018, mean / std: 472.027 for {'max_depth': 20, 'min_impurity_decrease': 3e-09}\n",
      "Mean: 0.862, std: 0.0027, mean / std: 324.276 for {'max_depth': 20, 'min_impurity_decrease': 1e-08}\n",
      "Mean: 0.861, std: 0.0022, mean / std: 391.225 for {'max_depth': 20, 'min_impurity_decrease': 3e-08}\n",
      "Mean: 0.861, std: 0.0031, mean / std: 280.144 for {'max_depth': 21, 'min_impurity_decrease': 1e-09}\n",
      "Mean: 0.861, std: 0.0025, mean / std: 344.911 for {'max_depth': 21, 'min_impurity_decrease': 3e-09}\n",
      "Mean: 0.862, std: 0.0017, mean / std: 508.966 for {'max_depth': 21, 'min_impurity_decrease': 1e-08}\n",
      "Mean: 0.861, std: 0.0027, mean / std: 315.720 for {'max_depth': 21, 'min_impurity_decrease': 3e-08}\n",
      "# Scoring: f1\n",
      "Best Params:  {'max_depth': 21, 'min_impurity_decrease': 3e-08}\n",
      "Best Score:  0.8558710661627609\n",
      "Grid scores:\n",
      "Mean: 0.853, std: 0.0023, mean / std: 364.046 for {'max_depth': 17, 'min_impurity_decrease': 1e-09}\n",
      "Mean: 0.853, std: 0.0022, mean / std: 383.979 for {'max_depth': 17, 'min_impurity_decrease': 3e-09}\n",
      "Mean: 0.854, std: 0.0035, mean / std: 242.081 for {'max_depth': 17, 'min_impurity_decrease': 1e-08}\n",
      "Mean: 0.853, std: 0.0016, mean / std: 518.038 for {'max_depth': 17, 'min_impurity_decrease': 3e-08}\n",
      "Mean: 0.855, std: 0.0024, mean / std: 362.161 for {'max_depth': 18, 'min_impurity_decrease': 1e-09}\n",
      "Mean: 0.853, std: 0.0029, mean / std: 294.510 for {'max_depth': 18, 'min_impurity_decrease': 3e-09}\n",
      "Mean: 0.853, std: 0.0024, mean / std: 353.556 for {'max_depth': 18, 'min_impurity_decrease': 1e-08}\n",
      "Mean: 0.854, std: 0.0033, mean / std: 260.867 for {'max_depth': 18, 'min_impurity_decrease': 3e-08}\n",
      "Mean: 0.855, std: 0.0040, mean / std: 212.756 for {'max_depth': 19, 'min_impurity_decrease': 1e-09}\n",
      "Mean: 0.854, std: 0.0023, mean / std: 366.821 for {'max_depth': 19, 'min_impurity_decrease': 3e-09}\n",
      "Mean: 0.855, std: 0.0032, mean / std: 269.920 for {'max_depth': 19, 'min_impurity_decrease': 1e-08}\n",
      "Mean: 0.855, std: 0.0028, mean / std: 309.139 for {'max_depth': 19, 'min_impurity_decrease': 3e-08}\n",
      "Mean: 0.855, std: 0.0031, mean / std: 273.584 for {'max_depth': 20, 'min_impurity_decrease': 1e-09}\n",
      "Mean: 0.855, std: 0.0040, mean / std: 215.857 for {'max_depth': 20, 'min_impurity_decrease': 3e-09}\n",
      "Mean: 0.855, std: 0.0028, mean / std: 306.470 for {'max_depth': 20, 'min_impurity_decrease': 1e-08}\n",
      "Mean: 0.855, std: 0.0032, mean / std: 263.161 for {'max_depth': 20, 'min_impurity_decrease': 3e-08}\n",
      "Mean: 0.854, std: 0.0030, mean / std: 282.656 for {'max_depth': 21, 'min_impurity_decrease': 1e-09}\n",
      "Mean: 0.855, std: 0.0023, mean / std: 377.791 for {'max_depth': 21, 'min_impurity_decrease': 3e-09}\n",
      "Mean: 0.854, std: 0.0031, mean / std: 273.839 for {'max_depth': 21, 'min_impurity_decrease': 1e-08}\n",
      "Mean: 0.856, std: 0.0031, mean / std: 277.220 for {'max_depth': 21, 'min_impurity_decrease': 3e-08}\n"
     ]
    }
   ],
   "source": [
    "from sklearn.ensemble import RandomForestClassifier\n",
    "rf = RandomForestClassifier(n_jobs=-1)\n",
    "rf_params = {'max_depth': [17, 18, 19, 20, 21], 'min_impurity_decrease': [1e-9, 3e-9, 1e-8, 3e-8]}\n",
    "cv_for_model_selection(rf, rf_params, verbose=True)"
   ]
  },
  {
   "cell_type": "code",
   "execution_count": 92,
   "metadata": {},
   "outputs": [
    {
     "name": "stdout",
     "output_type": "stream",
     "text": [
      "Accuracy:  0.9381967022758941\n",
      "Precision:  0.9764638710905285\n",
      "Recall:  0.8974927113702624\n",
      "F1:  0.9353143134931486\n",
      "ROC_AUC:  0.9380225725888195\n"
     ]
    }
   ],
   "source": [
    "rf_cv = RandomForestClassifier(max_depth=21, min_impurity_decrease=3e-8, n_jobs=-1)\n",
    "rf_cv.fit(transformed_X_train, y_train)\n",
    "rf_pred_y_train = rf_cv.predict(transformed_X_train)\n",
    "print('Accuracy: ', accuracy_score(y_train, rf_pred_y_train))\n",
    "print('Precision: ', precision_score(y_train, rf_pred_y_train))\n",
    "print('Recall: ', recall_score(y_train, rf_pred_y_train))\n",
    "print('F1: ', f1_score(y_train, rf_pred_y_train))\n",
    "print('ROC_AUC: ', roc_auc_score(y_train, rf_pred_y_train))"
   ]
  },
  {
   "cell_type": "markdown",
   "metadata": {},
   "source": [
    "### XGBoost"
   ]
  },
  {
   "cell_type": "code",
   "execution_count": 93,
   "metadata": {},
   "outputs": [],
   "source": [
    "from xgboost import XGBClassifier\n",
    "xgb = XGBClassifier(n_jobs=-1)"
   ]
  },
  {
   "cell_type": "code",
   "execution_count": 97,
   "metadata": {
    "scrolled": true
   },
   "outputs": [
    {
     "name": "stdout",
     "output_type": "stream",
     "text": [
      "# Scoring: accuracy\n",
      "Best Params:  {'learning_rate': 0.1, 'max_depth': 8, 'n_estimators': 150}\n",
      "Best Score:  0.8653913171352239\n",
      "# Scoring: f1\n",
      "Best Params:  {'learning_rate': 0.1, 'max_depth': 8, 'n_estimators': 150}\n",
      "Best Score:  0.8566198841629646\n"
     ]
    }
   ],
   "source": [
    "xgb_params = {'max_depth': [5, 6, 7, 8, 9], \n",
    "              'n_estimators': [150, 160, 170, 180], \n",
    "              'learning_rate': [0.05, 0.1, 0.2, 0.3]}\n",
    "cv_for_model_selection(xgb, xgb_params)"
   ]
  },
  {
   "cell_type": "code",
   "execution_count": 98,
   "metadata": {},
   "outputs": [
    {
     "name": "stdout",
     "output_type": "stream",
     "text": [
      "Accuracy:  0.8911692986530423\n",
      "Precision:  0.9415485996705107\n",
      "Recall:  0.8331195335276967\n",
      "F1:  0.8840216550657386\n",
      "ROC_AUC:  0.8909209645901865\n"
     ]
    }
   ],
   "source": [
    "xgb_cv = XGBClassifier(learning_rate=0.1, max_depth=8, n_estimators=150, n_jobs=-1)\n",
    "xgb_cv.fit(transformed_X_train, y_train)\n",
    "xgb_pred_y_train = xgb_cv.predict(transformed_X_train)\n",
    "print('Accuracy: ', accuracy_score(y_train, xgb_pred_y_train))\n",
    "print('Precision: ', precision_score(y_train, xgb_pred_y_train))\n",
    "print('Recall: ', recall_score(y_train, xgb_pred_y_train))\n",
    "print('F1: ', f1_score(y_train, xgb_pred_y_train))\n",
    "print('ROC_AUC: ', roc_auc_score(y_train, xgb_pred_y_train))"
   ]
  },
  {
   "attachments": {
    "image.png": {
     "image/png": "[encoded data removed]"
    }
   },
   "cell_type": "markdown",
   "metadata": {},
   "source": [
    "**Comparing all the models above, we decided to pick *Random Forest*. It has highest scores on all metrics, especially on recall (86%), since we should focus more on the false negatives in this H1B scenario, as companies don't want to predict as certified when it is likely to be denied.**\n",
    "![image.png](attachment:image.png)"
   ]
  },
  {
   "cell_type": "markdown",
   "metadata": {},
   "source": [
    "## iii. Prediction"
   ]
  },
  {
   "cell_type": "markdown",
   "metadata": {},
   "source": [
    "We now use random forest to make predictions on the test set that was previously set aside, also, we produce classification report and confusion matrix to see model performance."
   ]
  },
  {
   "cell_type": "code",
   "execution_count": 99,
   "metadata": {},
   "outputs": [],
   "source": [
    "# transform X_test\n",
    "transformed_X_test = ct.transform(X_test)"
   ]
  },
  {
   "cell_type": "code",
   "execution_count": 100,
   "metadata": {},
   "outputs": [
    {
     "name": "stdout",
     "output_type": "stream",
     "text": [
      "Classification metrics:\n",
      "Accuracy:  0.8630148915788557\n",
      "Precision:  0.893418100224383\n",
      "Recall:  0.8265006054315862\n",
      "F1:  0.8586575613262648\n",
      "ROC_AUC:  0.8632678404218612\n",
      "\n",
      "Classfication report:\n",
      "              precision    recall  f1-score   support\n",
      "\n",
      "   CERTIFIED       0.84      0.90      0.87      5702\n",
      "      DENIED       0.89      0.83      0.86      5781\n",
      "\n",
      "    accuracy                           0.86     11483\n",
      "   macro avg       0.86      0.86      0.86     11483\n",
      "weighted avg       0.87      0.86      0.86     11483\n",
      "\n"
     ]
    }
   ],
   "source": [
    "from sklearn.metrics import classification_report\n",
    "y_pred = rf_cv.predict(transformed_X_test)\n",
    "print('Classification metrics:')\n",
    "print('Accuracy: ', accuracy_score(y_test, y_pred))\n",
    "print('Precision: ', precision_score(y_test, y_pred))\n",
    "print('Recall: ', recall_score(y_test, y_pred))\n",
    "print('F1: ', f1_score(y_test, y_pred))\n",
    "print('ROC_AUC: ', roc_auc_score(y_test, y_pred))\n",
    "print()\n",
    "print('Classfication report:')\n",
    "target_names = ['CERTIFIED', 'DENIED']\n",
    "print(classification_report(y_test, y_pred, target_names=target_names))"
   ]
  },
  {
   "cell_type": "code",
   "execution_count": 101,
   "metadata": {},
   "outputs": [
    {
     "name": "stdout",
     "output_type": "stream",
     "text": [
      "('True Negative', 5132, 0.44692153618392405)\n",
      "('False Positive', 570, 0.04963859618566577)\n",
      "('False Negative', 1003, 0.08734651223547853)\n",
      "('True Positive', 4778, 0.41609335539493164)\n"
     ]
    }
   ],
   "source": [
    "from sklearn.metrics import confusion_matrix\n",
    "errors = confusion_matrix(y_test, y_pred).ravel()\n",
    "lst = ['True Negative', 'False Positive', 'False Negative', 'True Positive']\n",
    "ratios = [i / sum(errors) for i in errors]\n",
    "for pair in zip(lst, errors, ratios):\n",
    "    print(pair)"
   ]
  },
  {
   "cell_type": "markdown",
   "metadata": {},
   "source": [
    "Our model performs quite well, the accuracy is around 85%. We can see FP is 4.9% and FN is 8.7%. We want low FN. The precision and recall are pretty high, too (both are above 83%)."
   ]
  },
  {
   "cell_type": "markdown",
   "metadata": {},
   "source": [
    "## iv. Model Interpretation"
   ]
  },
  {
   "cell_type": "markdown",
   "metadata": {},
   "source": [
    "We would like to see feature importance performed on decision tree and random forest."
   ]
  },
  {
   "cell_type": "code",
   "execution_count": 104,
   "metadata": {},
   "outputs": [],
   "source": [
    "def change_name(s):\n",
    "    return s.replace('x0', 'WAGE').replace('x1', 'INDUSTRY').replace('x2', 'OCCUPATION').replace('x3', 'AGENT').replace('x4', 'H1B_DEPENDENT').replace('x5', 'FULL_TIME')"
   ]
  },
  {
   "cell_type": "code",
   "execution_count": 105,
   "metadata": {},
   "outputs": [
    {
     "data": {
      "text/plain": [
       "[('CASE_PROCESSING_TIME', 0.49154946837485003),\n",
       " ('WAGE_DIFF', 0.16572094467815887),\n",
       " ('WAGE_HOURLY', 0.13078329784194093),\n",
       " ('OCCUPATION_15', 0.02999307811132406),\n",
       " ('H1B_DEPENDENT_N', 0.026880870796380674),\n",
       " ('H1B_DEPENDENT_Y', 0.023416531468234723),\n",
       " ('AGENT_N', 0.012650406125077878),\n",
       " ('INDUSTRY_54', 0.012211583968689483),\n",
       " ('AGENT_Y', 0.009988382992717496),\n",
       " ('WAGE_Level II', 0.0069890830534043305)]"
      ]
     },
     "execution_count": 105,
     "metadata": {},
     "output_type": "execute_result"
    }
   ],
   "source": [
    "ohe_columns = list(ct.named_transformers_['onehotencoder'].get_feature_names())\n",
    "ohe_columns = [change_name(s) for s in ohe_columns]\n",
    "all_columns = cont_features + ohe_columns\n",
    "feature_importance = sorted(list(zip(all_columns, list(rf_cv.feature_importances_))), key=lambda t: t[1], reverse=True)\n",
    "feature_importance[:10]"
   ]
  },
  {
   "cell_type": "markdown",
   "metadata": {},
   "source": [
    "Based on the above result, we can see that for our best performing models, the processing time, some specific occupations (**15-comp&math**) and industries (**54-sci&tech services**), the wage, whether employer is H-1B dependent and has agents, can all be important in the decision making process."
   ]
  },
  {
   "cell_type": "markdown",
   "metadata": {},
   "source": [
    "But if we want to put our model into production, we don't have processing time available. But this is an indication that the application's completeness, detailness and truthfulness will greatly influence the final decision. And this is something we cannot see directly from the objective values(wage,occupation). \n",
    "\n",
    "So we will train a model without processing time for production purpose, and we expect the performance to go down."
   ]
  },
  {
   "cell_type": "markdown",
   "metadata": {},
   "source": [
    "Below we try to rule out case processing time so that our model can be used for prediction."
   ]
  },
  {
   "cell_type": "code",
   "execution_count": 106,
   "metadata": {},
   "outputs": [],
   "source": [
    "label = 'CASE_STATUS'\n",
    "features_new = ['PW_WAGE_LEVEL_1', 'WAGE_HOURLY', 'WAGE_DIFF', 'INDUSTRY', 'OCCUPATION', \n",
    "                'AGENT_REPRESENTING_EMPLOYER', 'H-1B_DEPENDENT', 'FULL_TIME_POSITION']\n",
    "cont_features_new = ['WAGE_HOURLY', 'WAGE_DIFF']\n",
    "dis_features_new = ['PW_WAGE_LEVEL_1', 'INDUSTRY', 'OCCUPATION', \n",
    "                    'AGENT_REPRESENTING_EMPLOYER', 'H-1B_DEPENDENT', 'FULL_TIME_POSITION']\n",
    "y = combined_df[label]\n",
    "X_new = combined_df[features_new]\n",
    "X_train_new, X_test_new, y_train_new, y_test_new = train_test_split(X_new, y, random_state=0) # same split\n",
    "ct = make_column_transformer(\n",
    "      (sc, cont_features_new),\n",
    "      (ohe, dis_features_new),\n",
    "      remainder=\"passthrough\")\n",
    "ct.fit(X_train_new)\n",
    "transformed_X_train_new = ct.transform(X_train_new)"
   ]
  },
  {
   "cell_type": "code",
   "execution_count": 107,
   "metadata": {},
   "outputs": [
    {
     "name": "stdout",
     "output_type": "stream",
     "text": [
      "Train:\n",
      "Accuracy:  0.8237923827217836\n",
      "Precision:  0.8774356179315983\n",
      "Recall:  0.7509620991253644\n",
      "F1:  0.8092874198818649\n",
      "ROC_AUC:  0.8234808183220764\n"
     ]
    }
   ],
   "source": [
    "# Random Forest\n",
    "rf_cv_new = RandomForestClassifier(max_depth=22, min_impurity_decrease=3e-6, n_jobs=-1)\n",
    "rf_cv_new.fit(transformed_X_train_new, y_train_new)\n",
    "rf_pred_y_train_new = rf_cv_new.predict(transformed_X_train_new)\n",
    "print('Train:')\n",
    "print('Accuracy: ', accuracy_score(y_train_new, rf_pred_y_train_new))\n",
    "print('Precision: ', precision_score(y_train_new, rf_pred_y_train_new))\n",
    "print('Recall: ', recall_score(y_train_new, rf_pred_y_train_new))\n",
    "print('F1: ', f1_score(y_train_new, rf_pred_y_train_new))\n",
    "print('ROC_AUC: ', roc_auc_score(y_train_new, rf_pred_y_train_new))"
   ]
  },
  {
   "cell_type": "code",
   "execution_count": 108,
   "metadata": {},
   "outputs": [
    {
     "name": "stdout",
     "output_type": "stream",
     "text": [
      "Predict:\n",
      "Accuracy:  0.7269006357223722\n",
      "Precision:  0.7612087695042465\n",
      "Recall:  0.6666666666666666\n",
      "F1:  0.7108078199926227\n",
      "ROC_AUC:  0.7273179001519934\n",
      "\n",
      "Classfication report:\n",
      "              precision    recall  f1-score   support\n",
      "\n",
      "   CERTIFIED       0.70      0.79      0.74      5702\n",
      "      DENIED       0.76      0.67      0.71      5781\n",
      "\n",
      "    accuracy                           0.73     11483\n",
      "   macro avg       0.73      0.73      0.73     11483\n",
      "weighted avg       0.73      0.73      0.73     11483\n",
      "\n"
     ]
    }
   ],
   "source": [
    "transformed_X_test_new = ct.transform(X_test_new)\n",
    "y_pred_new = rf_cv_new.predict(transformed_X_test_new)\n",
    "print('Predict:')\n",
    "print('Accuracy: ', accuracy_score(y_test_new, y_pred_new))\n",
    "print('Precision: ', precision_score(y_test_new, y_pred_new))\n",
    "print('Recall: ', recall_score(y_test_new, y_pred_new))\n",
    "print('F1: ', f1_score(y_test_new, y_pred_new))\n",
    "print('ROC_AUC: ', roc_auc_score(y_test_new, y_pred_new))\n",
    "print()\n",
    "print('Classfication report:')\n",
    "target_names = ['CERTIFIED', 'DENIED']\n",
    "print(classification_report(y_test_new, y_pred_new, target_names=target_names))"
   ]
  },
  {
   "cell_type": "code",
   "execution_count": 109,
   "metadata": {},
   "outputs": [
    {
     "name": "stdout",
     "output_type": "stream",
     "text": [
      "('True Negative', 4493, 0.39127405730209874)\n",
      "('False Positive', 1209, 0.10528607506749108)\n",
      "('False Negative', 1927, 0.16781328921013672)\n",
      "('True Positive', 3854, 0.33562657842027344)\n"
     ]
    }
   ],
   "source": [
    "errors_new = confusion_matrix(y_test_new, y_pred_new).ravel()\n",
    "lst = ['True Negative', 'False Positive', 'False Negative', 'True Positive']\n",
    "ratios_new = [i / sum(errors_new) for i in errors_new]\n",
    "for pair in zip(lst, errors_new, ratios_new):\n",
    "    print(pair)"
   ]
  },
  {
   "cell_type": "markdown",
   "metadata": {},
   "source": [
    "All the metrics have worth performance now than for the previous model, which are expected. "
   ]
  },
  {
   "cell_type": "code",
   "execution_count": 110,
   "metadata": {
    "scrolled": false
   },
   "outputs": [
    {
     "data": {
      "text/plain": [
       "[('WAGE_DIFF', 0.3364867740387131),\n",
       " ('WAGE_HOURLY', 0.24315501744782916),\n",
       " ('H1B_DEPENDENT_Y', 0.0692926079683526),\n",
       " ('OCCUPATION_15', 0.05795626234646132),\n",
       " ('H1B_DEPENDENT_N', 0.042686877846894816),\n",
       " ('AGENT_N', 0.026680144886044733),\n",
       " ('AGENT_Y', 0.02566794172494949),\n",
       " ('INDUSTRY_54', 0.02435789491285857),\n",
       " ('OCCUPATION_11', 0.012347167583135324),\n",
       " ('WAGE_Level II', 0.011837949142535897)]"
      ]
     },
     "execution_count": 110,
     "metadata": {},
     "output_type": "execute_result"
    }
   ],
   "source": [
    "all_columns_new = cont_features_new + ohe_columns\n",
    "feature_importance = sorted(list(zip(all_columns_new, list(rf_cv_new.feature_importances_))), key=lambda t: t[1], reverse=True)\n",
    "feature_importance[:10]"
   ]
  },
  {
   "cell_type": "markdown",
   "metadata": {},
   "source": [
    "The factors are similar to the previous model."
   ]
  },
  {
   "cell_type": "markdown",
   "metadata": {},
   "source": [
    "## IV. Recommendations and Future Work"
   ]
  },
  {
   "cell_type": "markdown",
   "metadata": {},
   "source": [
    "### i. Recommendations"
   ]
  },
  {
   "cell_type": "markdown",
   "metadata": {},
   "source": [
    "Based on exploratory data analysis and our random forest model result, we have some recommendations for applying for H-1B.\n",
    "<br>\n",
    "1. Wage. Being lower than prevailing wage can significantly affect the result. In this case, employers should rasie the wage to match the prevailing wage. Students should also pay attention to the offer package and make negotiations if needed.\n",
    "2. Occupation. It is hard for one to change its career. Therefore, we suggest students who are not in occupations like technology should take serious consideration.\n",
    "3. Employers with agent representing and H-1B dependent, applications for full time positions have a positive influence on certified rate, which can help students choose between the offers."
   ]
  },
  {
   "cell_type": "markdown",
   "metadata": {},
   "source": [
    "### ii. Future work"
   ]
  },
  {
   "cell_type": "markdown",
   "metadata": {},
   "source": [
    "There are a few things that can be done to improve our model. <br>\n",
    "1. Sampling method: Our current undersampling method reduces the data size drastically, which may have lost some important information. Alternative approaches like oversampling or anomaly detection without sampling can be tried. <br>\n",
    "2. Feature engineering: There are still room for engineering more relevant features after researching deeper into this field.\n",
    "3. Complex models: Models like Neural Networks can be applied to model more complex relationship.\n",
    "4. We might see if our binary classification can be expanded to multi classification, see if we can also predict whether a case will withdrawn or not."
   ]
  },
  {
   "cell_type": "code",
   "execution_count": null,
   "metadata": {},
   "outputs": [],
   "source": []
  }
 ],
 "metadata": {
  "kernelspec": {
   "display_name": "Python 3",
   "language": "python",
   "name": "python3"
  },
  "language_info": {
   "codemirror_mode": {
    "name": "ipython",
    "version": 3
   },
   "file_extension": ".py",
   "mimetype": "text/x-python",
   "name": "python",
   "nbconvert_exporter": "python",
   "pygments_lexer": "ipython3",
   "version": "3.7.6-final"
  }
 },
 "nbformat": 4,
 "nbformat_minor": 4
}